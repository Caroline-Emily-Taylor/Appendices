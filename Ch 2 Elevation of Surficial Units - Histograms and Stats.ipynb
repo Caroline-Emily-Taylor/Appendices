{
 "cells": [
  {
   "cell_type": "markdown",
   "metadata": {},
   "source": [
    "# Elevation of Surficial Units"
   ]
  },
  {
   "cell_type": "code",
   "execution_count": 1,
   "metadata": {},
   "outputs": [],
   "source": [
    "import numpy as np\n",
    "import pandas as pd\n",
    "import matplotlib.pyplot as plt\n",
    "import seaborn as sns"
   ]
  },
  {
   "cell_type": "code",
   "execution_count": 2,
   "metadata": {},
   "outputs": [
    {
     "name": "stdout",
     "output_type": "stream",
     "text": [
      "Max elevation: \n",
      "Till    430\n",
      "dtype: int64\n"
     ]
    }
   ],
   "source": [
    "#Import datasets\n",
    "\n",
    "df1 = pd.read_csv(r'C:\\Users\\ctayl\\Desktop\\Malartic\\Python\\surficial_till_new.csv')\n",
    "df2 = pd.read_csv(r'C:\\Users\\ctayl\\Desktop\\Malartic\\Python\\surficial_glacilac_new.csv')\n",
    "df3 = pd.read_csv(r'C:\\Users\\ctayl\\Desktop\\Malartic\\Python\\bedrock_new.csv')\n",
    "\n",
    "df1.head()\n",
    "print(\"Max elevation: \")\n",
    "print(df1[[\"Till\"]].max())"
   ]
  },
  {
   "cell_type": "code",
   "execution_count": 3,
   "metadata": {},
   "outputs": [
    {
     "data": {
      "text/html": [
       "<div>\n",
       "<style scoped>\n",
       "    .dataframe tbody tr th:only-of-type {\n",
       "        vertical-align: middle;\n",
       "    }\n",
       "\n",
       "    .dataframe tbody tr th {\n",
       "        vertical-align: top;\n",
       "    }\n",
       "\n",
       "    .dataframe thead th {\n",
       "        text-align: right;\n",
       "    }\n",
       "</style>\n",
       "<table border=\"1\" class=\"dataframe\">\n",
       "  <thead>\n",
       "    <tr style=\"text-align: right;\">\n",
       "      <th></th>\n",
       "      <th>X</th>\n",
       "      <th>Y</th>\n",
       "      <th>Glaciolacustrine</th>\n",
       "    </tr>\n",
       "  </thead>\n",
       "  <tbody>\n",
       "    <tr>\n",
       "      <th>0</th>\n",
       "      <td>695552.652500</td>\n",
       "      <td>5.347235e+06</td>\n",
       "      <td>312</td>\n",
       "    </tr>\n",
       "    <tr>\n",
       "      <th>1</th>\n",
       "      <td>695569.889578</td>\n",
       "      <td>5.347235e+06</td>\n",
       "      <td>311</td>\n",
       "    </tr>\n",
       "    <tr>\n",
       "      <th>2</th>\n",
       "      <td>695587.126656</td>\n",
       "      <td>5.347235e+06</td>\n",
       "      <td>310</td>\n",
       "    </tr>\n",
       "    <tr>\n",
       "      <th>3</th>\n",
       "      <td>695604.363734</td>\n",
       "      <td>5.347235e+06</td>\n",
       "      <td>310</td>\n",
       "    </tr>\n",
       "    <tr>\n",
       "      <th>4</th>\n",
       "      <td>695621.600812</td>\n",
       "      <td>5.347235e+06</td>\n",
       "      <td>310</td>\n",
       "    </tr>\n",
       "  </tbody>\n",
       "</table>\n",
       "</div>"
      ],
      "text/plain": [
       "               X             Y  Glaciolacustrine\n",
       "0  695552.652500  5.347235e+06               312\n",
       "1  695569.889578  5.347235e+06               311\n",
       "2  695587.126656  5.347235e+06               310\n",
       "3  695604.363734  5.347235e+06               310\n",
       "4  695621.600812  5.347235e+06               310"
      ]
     },
     "execution_count": 3,
     "metadata": {},
     "output_type": "execute_result"
    }
   ],
   "source": [
    "df2.head()"
   ]
  },
  {
   "cell_type": "code",
   "execution_count": 4,
   "metadata": {},
   "outputs": [
    {
     "data": {
      "text/html": [
       "<div>\n",
       "<style scoped>\n",
       "    .dataframe tbody tr th:only-of-type {\n",
       "        vertical-align: middle;\n",
       "    }\n",
       "\n",
       "    .dataframe tbody tr th {\n",
       "        vertical-align: top;\n",
       "    }\n",
       "\n",
       "    .dataframe thead th {\n",
       "        text-align: right;\n",
       "    }\n",
       "</style>\n",
       "<table border=\"1\" class=\"dataframe\">\n",
       "  <thead>\n",
       "    <tr style=\"text-align: right;\">\n",
       "      <th></th>\n",
       "      <th>X</th>\n",
       "      <th>Y</th>\n",
       "      <th>Elevation</th>\n",
       "    </tr>\n",
       "  </thead>\n",
       "  <tbody>\n",
       "    <tr>\n",
       "      <th>0</th>\n",
       "      <td>697103.989491</td>\n",
       "      <td>5.347235e+06</td>\n",
       "      <td>323</td>\n",
       "    </tr>\n",
       "    <tr>\n",
       "      <th>1</th>\n",
       "      <td>697121.226569</td>\n",
       "      <td>5.347235e+06</td>\n",
       "      <td>324</td>\n",
       "    </tr>\n",
       "    <tr>\n",
       "      <th>2</th>\n",
       "      <td>697138.463647</td>\n",
       "      <td>5.347235e+06</td>\n",
       "      <td>324</td>\n",
       "    </tr>\n",
       "    <tr>\n",
       "      <th>3</th>\n",
       "      <td>697155.700725</td>\n",
       "      <td>5.347235e+06</td>\n",
       "      <td>324</td>\n",
       "    </tr>\n",
       "    <tr>\n",
       "      <th>4</th>\n",
       "      <td>697172.937802</td>\n",
       "      <td>5.347235e+06</td>\n",
       "      <td>324</td>\n",
       "    </tr>\n",
       "  </tbody>\n",
       "</table>\n",
       "</div>"
      ],
      "text/plain": [
       "               X             Y  Elevation\n",
       "0  697103.989491  5.347235e+06        323\n",
       "1  697121.226569  5.347235e+06        324\n",
       "2  697138.463647  5.347235e+06        324\n",
       "3  697155.700725  5.347235e+06        324\n",
       "4  697172.937802  5.347235e+06        324"
      ]
     },
     "execution_count": 4,
     "metadata": {},
     "output_type": "execute_result"
    }
   ],
   "source": [
    "df3.head()"
   ]
  },
  {
   "cell_type": "code",
   "execution_count": 5,
   "metadata": {},
   "outputs": [
    {
     "data": {
      "text/html": [
       "<div>\n",
       "<style scoped>\n",
       "    .dataframe tbody tr th:only-of-type {\n",
       "        vertical-align: middle;\n",
       "    }\n",
       "\n",
       "    .dataframe tbody tr th {\n",
       "        vertical-align: top;\n",
       "    }\n",
       "\n",
       "    .dataframe thead th {\n",
       "        text-align: right;\n",
       "    }\n",
       "</style>\n",
       "<table border=\"1\" class=\"dataframe\">\n",
       "  <thead>\n",
       "    <tr style=\"text-align: right;\">\n",
       "      <th></th>\n",
       "      <th>X</th>\n",
       "      <th>Y</th>\n",
       "      <th>Bedrock</th>\n",
       "    </tr>\n",
       "  </thead>\n",
       "  <tbody>\n",
       "    <tr>\n",
       "      <th>0</th>\n",
       "      <td>697103.989491</td>\n",
       "      <td>5.347235e+06</td>\n",
       "      <td>323</td>\n",
       "    </tr>\n",
       "    <tr>\n",
       "      <th>1</th>\n",
       "      <td>697121.226569</td>\n",
       "      <td>5.347235e+06</td>\n",
       "      <td>324</td>\n",
       "    </tr>\n",
       "    <tr>\n",
       "      <th>2</th>\n",
       "      <td>697138.463647</td>\n",
       "      <td>5.347235e+06</td>\n",
       "      <td>324</td>\n",
       "    </tr>\n",
       "    <tr>\n",
       "      <th>3</th>\n",
       "      <td>697155.700725</td>\n",
       "      <td>5.347235e+06</td>\n",
       "      <td>324</td>\n",
       "    </tr>\n",
       "    <tr>\n",
       "      <th>4</th>\n",
       "      <td>697172.937802</td>\n",
       "      <td>5.347235e+06</td>\n",
       "      <td>324</td>\n",
       "    </tr>\n",
       "  </tbody>\n",
       "</table>\n",
       "</div>"
      ],
      "text/plain": [
       "               X             Y  Bedrock\n",
       "0  697103.989491  5.347235e+06      323\n",
       "1  697121.226569  5.347235e+06      324\n",
       "2  697138.463647  5.347235e+06      324\n",
       "3  697155.700725  5.347235e+06      324\n",
       "4  697172.937802  5.347235e+06      324"
      ]
     },
     "execution_count": 5,
     "metadata": {},
     "output_type": "execute_result"
    }
   ],
   "source": [
    "#Set headers\n",
    "\n",
    "df1.columns = ('X', 'Y', 'Till')\n",
    "df2.columns = ('X', 'Y', 'Glaciolacustrine')\n",
    "df3.columns = ('X', 'Y', 'Bedrock')\n",
    "\n",
    "df3.head()"
   ]
  },
  {
   "cell_type": "code",
   "execution_count": 6,
   "metadata": {},
   "outputs": [
    {
     "data": {
      "text/html": [
       "<div>\n",
       "<style scoped>\n",
       "    .dataframe tbody tr th:only-of-type {\n",
       "        vertical-align: middle;\n",
       "    }\n",
       "\n",
       "    .dataframe tbody tr th {\n",
       "        vertical-align: top;\n",
       "    }\n",
       "\n",
       "    .dataframe thead th {\n",
       "        text-align: right;\n",
       "    }\n",
       "</style>\n",
       "<table border=\"1\" class=\"dataframe\">\n",
       "  <thead>\n",
       "    <tr style=\"text-align: right;\">\n",
       "      <th></th>\n",
       "      <th>X</th>\n",
       "      <th>Y</th>\n",
       "      <th>Till</th>\n",
       "      <th>X</th>\n",
       "      <th>Y</th>\n",
       "      <th>Glaciolacustrine</th>\n",
       "      <th>X</th>\n",
       "      <th>Y</th>\n",
       "      <th>Bedrock</th>\n",
       "    </tr>\n",
       "  </thead>\n",
       "  <tbody>\n",
       "    <tr>\n",
       "      <th>0</th>\n",
       "      <td>730130.230707</td>\n",
       "      <td>5.347201e+06</td>\n",
       "      <td>309.0</td>\n",
       "      <td>695552.652500</td>\n",
       "      <td>5.347235e+06</td>\n",
       "      <td>312</td>\n",
       "      <td>697103.989491</td>\n",
       "      <td>5.347235e+06</td>\n",
       "      <td>323.0</td>\n",
       "    </tr>\n",
       "    <tr>\n",
       "      <th>1</th>\n",
       "      <td>730147.467785</td>\n",
       "      <td>5.347201e+06</td>\n",
       "      <td>310.0</td>\n",
       "      <td>695569.889578</td>\n",
       "      <td>5.347235e+06</td>\n",
       "      <td>311</td>\n",
       "      <td>697121.226569</td>\n",
       "      <td>5.347235e+06</td>\n",
       "      <td>324.0</td>\n",
       "    </tr>\n",
       "    <tr>\n",
       "      <th>2</th>\n",
       "      <td>730164.704863</td>\n",
       "      <td>5.347201e+06</td>\n",
       "      <td>310.0</td>\n",
       "      <td>695587.126656</td>\n",
       "      <td>5.347235e+06</td>\n",
       "      <td>310</td>\n",
       "      <td>697138.463647</td>\n",
       "      <td>5.347235e+06</td>\n",
       "      <td>324.0</td>\n",
       "    </tr>\n",
       "    <tr>\n",
       "      <th>3</th>\n",
       "      <td>730181.941941</td>\n",
       "      <td>5.347201e+06</td>\n",
       "      <td>310.0</td>\n",
       "      <td>695604.363734</td>\n",
       "      <td>5.347235e+06</td>\n",
       "      <td>310</td>\n",
       "      <td>697155.700725</td>\n",
       "      <td>5.347235e+06</td>\n",
       "      <td>324.0</td>\n",
       "    </tr>\n",
       "    <tr>\n",
       "      <th>4</th>\n",
       "      <td>730199.179019</td>\n",
       "      <td>5.347201e+06</td>\n",
       "      <td>310.0</td>\n",
       "      <td>695621.600812</td>\n",
       "      <td>5.347235e+06</td>\n",
       "      <td>310</td>\n",
       "      <td>697172.937802</td>\n",
       "      <td>5.347235e+06</td>\n",
       "      <td>324.0</td>\n",
       "    </tr>\n",
       "  </tbody>\n",
       "</table>\n",
       "</div>"
      ],
      "text/plain": [
       "               X             Y   Till              X             Y  \\\n",
       "0  730130.230707  5.347201e+06  309.0  695552.652500  5.347235e+06   \n",
       "1  730147.467785  5.347201e+06  310.0  695569.889578  5.347235e+06   \n",
       "2  730164.704863  5.347201e+06  310.0  695587.126656  5.347235e+06   \n",
       "3  730181.941941  5.347201e+06  310.0  695604.363734  5.347235e+06   \n",
       "4  730199.179019  5.347201e+06  310.0  695621.600812  5.347235e+06   \n",
       "\n",
       "   Glaciolacustrine              X             Y  Bedrock  \n",
       "0               312  697103.989491  5.347235e+06    323.0  \n",
       "1               311  697121.226569  5.347235e+06    324.0  \n",
       "2               310  697138.463647  5.347235e+06    324.0  \n",
       "3               310  697155.700725  5.347235e+06    324.0  \n",
       "4               310  697172.937802  5.347235e+06    324.0  "
      ]
     },
     "execution_count": 6,
     "metadata": {},
     "output_type": "execute_result"
    }
   ],
   "source": [
    "#Combine dataframes\n",
    "\n",
    "df4 = pd.concat([df1, df2, df3], axis=1)\n",
    "\n",
    "df4.head()"
   ]
  },
  {
   "cell_type": "code",
   "execution_count": 7,
   "metadata": {},
   "outputs": [
    {
     "data": {
      "text/html": [
       "<div>\n",
       "<style scoped>\n",
       "    .dataframe tbody tr th:only-of-type {\n",
       "        vertical-align: middle;\n",
       "    }\n",
       "\n",
       "    .dataframe tbody tr th {\n",
       "        vertical-align: top;\n",
       "    }\n",
       "\n",
       "    .dataframe thead th {\n",
       "        text-align: right;\n",
       "    }\n",
       "</style>\n",
       "<table border=\"1\" class=\"dataframe\">\n",
       "  <thead>\n",
       "    <tr style=\"text-align: right;\">\n",
       "      <th></th>\n",
       "      <th>Till</th>\n",
       "      <th>Glaciolacustrine</th>\n",
       "      <th>Bedrock</th>\n",
       "    </tr>\n",
       "  </thead>\n",
       "  <tbody>\n",
       "    <tr>\n",
       "      <th>0</th>\n",
       "      <td>309.0</td>\n",
       "      <td>312</td>\n",
       "      <td>323.0</td>\n",
       "    </tr>\n",
       "    <tr>\n",
       "      <th>1</th>\n",
       "      <td>310.0</td>\n",
       "      <td>311</td>\n",
       "      <td>324.0</td>\n",
       "    </tr>\n",
       "    <tr>\n",
       "      <th>2</th>\n",
       "      <td>310.0</td>\n",
       "      <td>310</td>\n",
       "      <td>324.0</td>\n",
       "    </tr>\n",
       "    <tr>\n",
       "      <th>3</th>\n",
       "      <td>310.0</td>\n",
       "      <td>310</td>\n",
       "      <td>324.0</td>\n",
       "    </tr>\n",
       "    <tr>\n",
       "      <th>4</th>\n",
       "      <td>310.0</td>\n",
       "      <td>310</td>\n",
       "      <td>324.0</td>\n",
       "    </tr>\n",
       "  </tbody>\n",
       "</table>\n",
       "</div>"
      ],
      "text/plain": [
       "    Till  Glaciolacustrine  Bedrock\n",
       "0  309.0               312    323.0\n",
       "1  310.0               311    324.0\n",
       "2  310.0               310    324.0\n",
       "3  310.0               310    324.0\n",
       "4  310.0               310    324.0"
      ]
     },
     "execution_count": 7,
     "metadata": {},
     "output_type": "execute_result"
    }
   ],
   "source": [
    "#Extracting features\n",
    "\n",
    "sub_df=df4[['Till', 'Glaciolacustrine', 'Bedrock']].copy()   \n",
    "sub_df.head()"
   ]
  },
  {
   "cell_type": "code",
   "execution_count": 8,
   "metadata": {},
   "outputs": [
    {
     "name": "stdout",
     "output_type": "stream",
     "text": [
      "Skew:\n",
      "Till    0.510697\n",
      "dtype: float64\n",
      "\n",
      "\n",
      "Kurtosis:\n",
      "Till    0.354001\n",
      "dtype: float64\n"
     ]
    },
    {
     "data": {
      "image/png": "[encoded data removed]",
      "text/plain": [
       "<Figure size 504x360 with 1 Axes>"
      ]
     },
     "metadata": {
      "needs_background": "light"
     },
     "output_type": "display_data"
    }
   ],
   "source": [
    "#Histogram for till\n",
    "\n",
    "colors = ['#73c476']\n",
    "\n",
    "sub_df[[\"Till\"]].plot.hist(alpha=0.7,\n",
    "                        bins=15,\n",
    "                        color=colors,\n",
    "                        log=True,\n",
    "                        grid=False,\n",
    "                        figsize = (7,5),\n",
    "                        legend=False)\n",
    "\n",
    "plt.xlabel('Elevation (masl)')\n",
    "plt.ylabel('Pixel Count (1 Pixel \\u2248 297 m$^{2}$)')\n",
    "\n",
    "plt.title('Elevation of Till')\n",
    "\n",
    "#https://pythontic.com/pandas/dataframe-computations/skew\n",
    "#calculate sample skewness\n",
    "#axis=0 because the values are in a column\n",
    "print(\"Skew:\")\n",
    "print(sub_df[[\"Till\"]].skew(axis=0))\n",
    "\n",
    "#add whitespace\n",
    "print(\"\\n\")\n",
    "\n",
    "#calculate sample kurtosis\n",
    "print(\"Kurtosis:\")\n",
    "print(sub_df[[\"Till\"]].kurtosis(axis=0))"
   ]
  },
  {
   "cell_type": "code",
   "execution_count": 9,
   "metadata": {},
   "outputs": [
    {
     "data": {
      "text/plain": [
       "Text(0.5, 1.0, 'Elevation of Bedrock Outcrops')"
      ]
     },
     "execution_count": 9,
     "metadata": {},
     "output_type": "execute_result"
    },
    {
     "data": {
      "image/png": "[encoded data removed]",
      "text/plain": [
       "<Figure size 504x360 with 1 Axes>"
      ]
     },
     "metadata": {
      "needs_background": "light"
     },
     "output_type": "display_data"
    }
   ],
   "source": [
    "#Histogram for bedrock\n",
    "\n",
    "colors = ['#e98585']\n",
    "\n",
    "sub_df[[\"Bedrock\"]].plot.hist(alpha=0.7,\n",
    "                        bins=15,\n",
    "                        color=colors,\n",
    "                        log=True,\n",
    "                        grid=False,\n",
    "                        figsize = (7,5),\n",
    "                        legend=False)\n",
    "\n",
    "plt.xlabel('Elevation (masl)')\n",
    "plt.ylabel('Pixel Count (1 Pixel \\u2248 297 m$^{2}$)')\n",
    "\n",
    "plt.title('Elevation of Bedrock Outcrops')\n"
   ]
  },
  {
   "cell_type": "code",
   "execution_count": 10,
   "metadata": {},
   "outputs": [
    {
     "name": "stdout",
     "output_type": "stream",
     "text": [
      "Min elevation: \n",
      "Glaciolacustrine    286\n",
      "dtype: int64\n"
     ]
    },
    {
     "data": {
      "image/png": "[encoded data removed]",
      "text/plain": [
       "<Figure size 504x360 with 1 Axes>"
      ]
     },
     "metadata": {
      "needs_background": "light"
     },
     "output_type": "display_data"
    }
   ],
   "source": [
    "#Histogram for Glaciolacustrine seds\n",
    "\n",
    "colors = ['#422766']\n",
    "\n",
    "sub_df[[\"Glaciolacustrine\"]].plot.hist(alpha=0.7,\n",
    "                        bins=15,\n",
    "                        color=colors,\n",
    "                        log=True,\n",
    "                        grid=False,\n",
    "                        figsize = (7,5),\n",
    "                        legend=False)\n",
    "\n",
    "plt.xlabel('Elevation (masl)')\n",
    "plt.ylabel('Pixel Count (1 Pixel \\u2248 297 m$^{2}$)')\n",
    "\n",
    "plt.title('Elevation of Glacial Lake Sediments')\n",
    "\n",
    "print(\"Min elevation: \")\n",
    "print(sub_df[[\"Glaciolacustrine\"]].min())"
   ]
  },
  {
   "cell_type": "code",
   "execution_count": 11,
   "metadata": {},
   "outputs": [
    {
     "data": {
      "text/plain": [
       "Text(0.5, 1.0, 'Elevation of Bedrock, Till & Glacial Lake Sediments')"
      ]
     },
     "execution_count": 11,
     "metadata": {},
     "output_type": "execute_result"
    },
    {
     "data": {
      "image/png": "[encoded data removed]",
      "text/plain": [
       "<Figure size 504x360 with 1 Axes>"
      ]
     },
     "metadata": {
      "needs_background": "light"
     },
     "output_type": "display_data"
    }
   ],
   "source": [
    "#Histogram for three main surficial units\n",
    "\n",
    "colors = ['#422766', '#3ca156',  '#e98585']\n",
    "\n",
    "sub_df[[\"Glaciolacustrine\", \"Till\", \"Bedrock\"]].plot.hist(alpha=0.7,\n",
    "                                                     bins=15,\n",
    "                                                     color=colors,\n",
    "                                                     log=True,\n",
    "                                                     grid=False,\n",
    "                                                     figsize = (7,5))\n",
    "\n",
    "plt.xlabel('Elevation (masl)')\n",
    "plt.ylabel('Pixel Count (1 Pixel \\u2248 297 m$^{2}$)')\n",
    "\n",
    "plt.title('Elevation of Bedrock, Till & Glacial Lake Sediments')"
   ]
  },
  {
   "cell_type": "markdown",
   "metadata": {},
   "source": [
    "## Till Subunits"
   ]
  },
  {
   "cell_type": "code",
   "execution_count": 12,
   "metadata": {},
   "outputs": [
    {
     "data": {
      "text/html": [
       "<div>\n",
       "<style scoped>\n",
       "    .dataframe tbody tr th:only-of-type {\n",
       "        vertical-align: middle;\n",
       "    }\n",
       "\n",
       "    .dataframe tbody tr th {\n",
       "        vertical-align: top;\n",
       "    }\n",
       "\n",
       "    .dataframe thead th {\n",
       "        text-align: right;\n",
       "    }\n",
       "</style>\n",
       "<table border=\"1\" class=\"dataframe\">\n",
       "  <thead>\n",
       "    <tr style=\"text-align: right;\">\n",
       "      <th></th>\n",
       "      <th>Continuous</th>\n",
       "      <th>Discontinuous</th>\n",
       "    </tr>\n",
       "  </thead>\n",
       "  <tbody>\n",
       "    <tr>\n",
       "      <th>0</th>\n",
       "      <td>309.0</td>\n",
       "      <td>313</td>\n",
       "    </tr>\n",
       "    <tr>\n",
       "      <th>1</th>\n",
       "      <td>310.0</td>\n",
       "      <td>313</td>\n",
       "    </tr>\n",
       "    <tr>\n",
       "      <th>2</th>\n",
       "      <td>310.0</td>\n",
       "      <td>314</td>\n",
       "    </tr>\n",
       "    <tr>\n",
       "      <th>3</th>\n",
       "      <td>310.0</td>\n",
       "      <td>314</td>\n",
       "    </tr>\n",
       "    <tr>\n",
       "      <th>4</th>\n",
       "      <td>310.0</td>\n",
       "      <td>320</td>\n",
       "    </tr>\n",
       "  </tbody>\n",
       "</table>\n",
       "</div>"
      ],
      "text/plain": [
       "   Continuous  Discontinuous\n",
       "0       309.0            313\n",
       "1       310.0            313\n",
       "2       310.0            314\n",
       "3       310.0            314\n",
       "4       310.0            320"
      ]
     },
     "execution_count": 12,
     "metadata": {},
     "output_type": "execute_result"
    }
   ],
   "source": [
    "df5 = pd.read_csv(r'C:\\Users\\ctayl\\Desktop\\Malartic\\Python\\surficial_till_elevation.csv')\n",
    "\n",
    "df5.head()"
   ]
  },
  {
   "cell_type": "code",
   "execution_count": 13,
   "metadata": {},
   "outputs": [
    {
     "name": "stdout",
     "output_type": "stream",
     "text": [
      "Color Brewer Palettes:\n",
      "Greens:  ['#aedea7', '#37a055']\n",
      "Greens:  ['#73c476']\n"
     ]
    }
   ],
   "source": [
    "#Color Brewer palettes\n",
    "#brewermap.m\n",
    "#https://www.codecademy.com/article/seaborn-design-ii\n",
    "\n",
    "print(\"Color Brewer Palettes:\")\n",
    "\n",
    "pal = sns.color_palette(\"Greens\", 2)\n",
    "print(\"Greens: \", pal.as_hex())\n",
    "\n",
    "pal = sns.color_palette(\"Greens\", 1)\n",
    "print(\"Greens: \", pal.as_hex())"
   ]
  },
  {
   "cell_type": "code",
   "execution_count": 14,
   "metadata": {},
   "outputs": [
    {
     "data": {
      "text/plain": [
       "Text(0.5, 1.0, 'Elevation of Till Subunits')"
      ]
     },
     "execution_count": 14,
     "metadata": {},
     "output_type": "execute_result"
    },
    {
     "data": {
      "image/png": "[encoded data removed]",
      "text/plain": [
       "<Figure size 504x360 with 1 Axes>"
      ]
     },
     "metadata": {
      "needs_background": "light"
     },
     "output_type": "display_data"
    }
   ],
   "source": [
    "#Histogram showing subunits\n",
    "\n",
    "colors = ['#aedea7', '#37a055']\n",
    "\n",
    "df5[[\"Discontinuous\", \"Continuous\"]].plot.hist(alpha=0.6,                           \n",
    "                                              bins=15,\n",
    "                                              color=colors,\n",
    "                                              log=True,\n",
    "                                              grid=False,\n",
    "                                              figsize = (7,5))\n",
    "                                        \n",
    "\n",
    "plt.xlabel('Elevation (masl)')\n",
    "plt.ylabel('Pixel Count (1 Pixel \\u2248 297 m$^{2}$)')\n",
    "\n",
    "plt.title('Elevation of Till Subunits')"
   ]
  },
  {
   "cell_type": "code",
   "execution_count": 15,
   "metadata": {},
   "outputs": [
    {
     "data": {
      "text/html": [
       "<div>\n",
       "<style scoped>\n",
       "    .dataframe tbody tr th:only-of-type {\n",
       "        vertical-align: middle;\n",
       "    }\n",
       "\n",
       "    .dataframe tbody tr th {\n",
       "        vertical-align: top;\n",
       "    }\n",
       "\n",
       "    .dataframe thead th {\n",
       "        text-align: right;\n",
       "    }\n",
       "</style>\n",
       "<table border=\"1\" class=\"dataframe\">\n",
       "  <thead>\n",
       "    <tr style=\"text-align: right;\">\n",
       "      <th></th>\n",
       "      <th>Till</th>\n",
       "      <th>Glaciolacustrine</th>\n",
       "      <th>Bedrock</th>\n",
       "      <th>Continuous</th>\n",
       "      <th>Discontinuous</th>\n",
       "    </tr>\n",
       "  </thead>\n",
       "  <tbody>\n",
       "    <tr>\n",
       "      <th>0</th>\n",
       "      <td>309.0</td>\n",
       "      <td>312</td>\n",
       "      <td>323.0</td>\n",
       "      <td>309.0</td>\n",
       "      <td>313.0</td>\n",
       "    </tr>\n",
       "    <tr>\n",
       "      <th>1</th>\n",
       "      <td>310.0</td>\n",
       "      <td>311</td>\n",
       "      <td>324.0</td>\n",
       "      <td>310.0</td>\n",
       "      <td>313.0</td>\n",
       "    </tr>\n",
       "    <tr>\n",
       "      <th>2</th>\n",
       "      <td>310.0</td>\n",
       "      <td>310</td>\n",
       "      <td>324.0</td>\n",
       "      <td>310.0</td>\n",
       "      <td>314.0</td>\n",
       "    </tr>\n",
       "    <tr>\n",
       "      <th>3</th>\n",
       "      <td>310.0</td>\n",
       "      <td>310</td>\n",
       "      <td>324.0</td>\n",
       "      <td>310.0</td>\n",
       "      <td>314.0</td>\n",
       "    </tr>\n",
       "    <tr>\n",
       "      <th>4</th>\n",
       "      <td>310.0</td>\n",
       "      <td>310</td>\n",
       "      <td>324.0</td>\n",
       "      <td>310.0</td>\n",
       "      <td>320.0</td>\n",
       "    </tr>\n",
       "  </tbody>\n",
       "</table>\n",
       "</div>"
      ],
      "text/plain": [
       "    Till  Glaciolacustrine  Bedrock  Continuous  Discontinuous\n",
       "0  309.0               312    323.0       309.0          313.0\n",
       "1  310.0               311    324.0       310.0          313.0\n",
       "2  310.0               310    324.0       310.0          314.0\n",
       "3  310.0               310    324.0       310.0          314.0\n",
       "4  310.0               310    324.0       310.0          320.0"
      ]
     },
     "execution_count": 15,
     "metadata": {},
     "output_type": "execute_result"
    }
   ],
   "source": [
    "df6 = pd.concat([sub_df, df5], axis=1)\n",
    "\n",
    "df6.head()"
   ]
  },
  {
   "cell_type": "code",
   "execution_count": 16,
   "metadata": {},
   "outputs": [
    {
     "name": "stdout",
     "output_type": "stream",
     "text": [
      "Note: There is more continuous till than discontinuous till above the maximum elevation of glacial lake sediments.\n"
     ]
    },
    {
     "data": {
      "image/png": "[encoded data removed]",
      "text/plain": [
       "<Figure size 504x360 with 1 Axes>"
      ]
     },
     "metadata": {
      "needs_background": "light"
     },
     "output_type": "display_data"
    }
   ],
   "source": [
    "#Histogram showing till subunits and glacial lake sed\n",
    "\n",
    "colors = ['#aedea7','#37a055', '#422766']\n",
    "\n",
    "df6[[\"Discontinuous\", \"Continuous\", \"Glaciolacustrine\"]].plot.hist(alpha=0.6,                           \n",
    "                                              bins=15,\n",
    "                                              color=colors,\n",
    "                                              log=True,\n",
    "                                              grid=False,\n",
    "                                              #legend=False,\n",
    "                                              figsize = (7,5))\n",
    "                                        \n",
    "\n",
    "plt.xlabel('Elevation (masl)')\n",
    "plt.ylabel('Pixel Count (1 Pixel \\u2248 297 m$^{2}$)')\n",
    "\n",
    "#add line\n",
    "plt.axvline(x=382, color='k', linestyle='--', linewidth=1)\n",
    "\n",
    "#text for line\n",
    "plt.text(383, 18000, '382 masl', fontsize=9)\n",
    "\n",
    "plt.title('Elevation of Till Subunits & Glacial Lake Sediments')\n",
    "\n",
    "#plt.savefig(r'C:\\Users\\ctayl\\Desktop\\Malartic\\Python\\Elevation_glac_tills.png', format='png')\n",
    "\n",
    "print(\"Note: There is more continuous till than discontinuous till above the maximum elevation of glacial lake sediments.\")"
   ]
  },
  {
   "cell_type": "code",
   "execution_count": 17,
   "metadata": {},
   "outputs": [
    {
     "data": {
      "image/png": "[encoded data removed]",
      "text/plain": [
       "<Figure size 504x360 with 1 Axes>"
      ]
     },
     "metadata": {
      "needs_background": "light"
     },
     "output_type": "display_data"
    }
   ],
   "source": [
    "#Histogram showing till subunits and bedrock\n",
    "\n",
    "colors = ['#37a055', '#aedea7', '#e98585']\n",
    "\n",
    "df6[[\"Continuous\", \"Discontinuous\", \"Bedrock\"]].plot.hist(alpha=0.6,                           \n",
    "                                              bins=15,\n",
    "                                              color=colors,\n",
    "                                              log=True,\n",
    "                                              grid=False,\n",
    "                                              figsize = (7,5))\n",
    "                                        \n",
    "\n",
    "plt.xlabel('Elevation (masl)')\n",
    "plt.ylabel('Pixel Count (1 Pixel \\u2248 297 m$^{2}$)')\n",
    "\n",
    "#add line\n",
    "plt.axvline(x=383, color='k', linestyle='--', linewidth=1)\n",
    "\n",
    "#text for line\n",
    "plt.text(384, 15000, '383 masl', fontsize=9)\n",
    "\n",
    "plt.title('Elevation of Till Subunits & Bedrock')\n",
    "\n",
    "plt.savefig(r'C:\\Users\\ctayl\\Desktop\\Malartic\\Python\\Elevation_bedrock_till.png', format='png')"
   ]
  },
  {
   "cell_type": "markdown",
   "metadata": {},
   "source": [
    "## Glacial Lake Sediment Subunits"
   ]
  },
  {
   "cell_type": "code",
   "execution_count": 18,
   "metadata": {},
   "outputs": [
    {
     "data": {
      "text/html": [
       "<div>\n",
       "<style scoped>\n",
       "    .dataframe tbody tr th:only-of-type {\n",
       "        vertical-align: middle;\n",
       "    }\n",
       "\n",
       "    .dataframe tbody tr th {\n",
       "        vertical-align: top;\n",
       "    }\n",
       "\n",
       "    .dataframe thead th {\n",
       "        text-align: right;\n",
       "    }\n",
       "</style>\n",
       "<table border=\"1\" class=\"dataframe\">\n",
       "  <thead>\n",
       "    <tr style=\"text-align: right;\">\n",
       "      <th></th>\n",
       "      <th>X</th>\n",
       "      <th>Y</th>\n",
       "      <th>Elevation</th>\n",
       "    </tr>\n",
       "  </thead>\n",
       "  <tbody>\n",
       "    <tr>\n",
       "      <th>0</th>\n",
       "      <td>695673.312062</td>\n",
       "      <td>5.347235e+06</td>\n",
       "      <td>310</td>\n",
       "    </tr>\n",
       "    <tr>\n",
       "      <th>1</th>\n",
       "      <td>695690.549140</td>\n",
       "      <td>5.347235e+06</td>\n",
       "      <td>310</td>\n",
       "    </tr>\n",
       "    <tr>\n",
       "      <th>2</th>\n",
       "      <td>695707.786218</td>\n",
       "      <td>5.347235e+06</td>\n",
       "      <td>310</td>\n",
       "    </tr>\n",
       "    <tr>\n",
       "      <th>3</th>\n",
       "      <td>695725.023296</td>\n",
       "      <td>5.347235e+06</td>\n",
       "      <td>310</td>\n",
       "    </tr>\n",
       "    <tr>\n",
       "      <th>4</th>\n",
       "      <td>695742.260373</td>\n",
       "      <td>5.347235e+06</td>\n",
       "      <td>310</td>\n",
       "    </tr>\n",
       "  </tbody>\n",
       "</table>\n",
       "</div>"
      ],
      "text/plain": [
       "               X             Y  Elevation\n",
       "0  695673.312062  5.347235e+06        310\n",
       "1  695690.549140  5.347235e+06        310\n",
       "2  695707.786218  5.347235e+06        310\n",
       "3  695725.023296  5.347235e+06        310\n",
       "4  695742.260373  5.347235e+06        310"
      ]
     },
     "execution_count": 18,
     "metadata": {},
     "output_type": "execute_result"
    }
   ],
   "source": [
    "#Read databases\n",
    "\n",
    "df7 = pd.read_csv(r'C:\\Users\\ctayl\\Desktop\\Malartic\\Python\\Deep_lake_mud_new2.csv')\n",
    "df8 = pd.read_csv(r'C:\\Users\\ctayl\\Desktop\\Malartic\\Python\\Deep_to_shallow_lake_mud_new.csv')\n",
    "df9 = pd.read_csv(r'C:\\Users\\ctayl\\Desktop\\Malartic\\Python\\Shallow_lake_mud_new2.csv')\n",
    "\n",
    "df7.head()"
   ]
  },
  {
   "cell_type": "code",
   "execution_count": 19,
   "metadata": {},
   "outputs": [
    {
     "data": {
      "text/html": [
       "<div>\n",
       "<style scoped>\n",
       "    .dataframe tbody tr th:only-of-type {\n",
       "        vertical-align: middle;\n",
       "    }\n",
       "\n",
       "    .dataframe tbody tr th {\n",
       "        vertical-align: top;\n",
       "    }\n",
       "\n",
       "    .dataframe thead th {\n",
       "        text-align: right;\n",
       "    }\n",
       "</style>\n",
       "<table border=\"1\" class=\"dataframe\">\n",
       "  <thead>\n",
       "    <tr style=\"text-align: right;\">\n",
       "      <th></th>\n",
       "      <th>X</th>\n",
       "      <th>Y</th>\n",
       "      <th>Deep water</th>\n",
       "    </tr>\n",
       "  </thead>\n",
       "  <tbody>\n",
       "    <tr>\n",
       "      <th>0</th>\n",
       "      <td>695673.312062</td>\n",
       "      <td>5.347235e+06</td>\n",
       "      <td>310</td>\n",
       "    </tr>\n",
       "    <tr>\n",
       "      <th>1</th>\n",
       "      <td>695690.549140</td>\n",
       "      <td>5.347235e+06</td>\n",
       "      <td>310</td>\n",
       "    </tr>\n",
       "    <tr>\n",
       "      <th>2</th>\n",
       "      <td>695707.786218</td>\n",
       "      <td>5.347235e+06</td>\n",
       "      <td>310</td>\n",
       "    </tr>\n",
       "    <tr>\n",
       "      <th>3</th>\n",
       "      <td>695725.023296</td>\n",
       "      <td>5.347235e+06</td>\n",
       "      <td>310</td>\n",
       "    </tr>\n",
       "    <tr>\n",
       "      <th>4</th>\n",
       "      <td>695742.260373</td>\n",
       "      <td>5.347235e+06</td>\n",
       "      <td>310</td>\n",
       "    </tr>\n",
       "  </tbody>\n",
       "</table>\n",
       "</div>"
      ],
      "text/plain": [
       "               X             Y  Deep water\n",
       "0  695673.312062  5.347235e+06         310\n",
       "1  695690.549140  5.347235e+06         310\n",
       "2  695707.786218  5.347235e+06         310\n",
       "3  695725.023296  5.347235e+06         310\n",
       "4  695742.260373  5.347235e+06         310"
      ]
     },
     "execution_count": 19,
     "metadata": {},
     "output_type": "execute_result"
    }
   ],
   "source": [
    "#Set headers\n",
    "df7.columns = ('X', 'Y', 'Deep water')\n",
    "df8.columns = ('X', 'Y', 'Deep-to-shallow')\n",
    "df9.columns = ('X', 'Y', 'Shallow water')\n",
    "\n",
    "df7.head()"
   ]
  },
  {
   "cell_type": "code",
   "execution_count": 20,
   "metadata": {},
   "outputs": [
    {
     "data": {
      "text/html": [
       "<div>\n",
       "<style scoped>\n",
       "    .dataframe tbody tr th:only-of-type {\n",
       "        vertical-align: middle;\n",
       "    }\n",
       "\n",
       "    .dataframe tbody tr th {\n",
       "        vertical-align: top;\n",
       "    }\n",
       "\n",
       "    .dataframe thead th {\n",
       "        text-align: right;\n",
       "    }\n",
       "</style>\n",
       "<table border=\"1\" class=\"dataframe\">\n",
       "  <thead>\n",
       "    <tr style=\"text-align: right;\">\n",
       "      <th></th>\n",
       "      <th>Deep water</th>\n",
       "      <th>Deep-to-shallow</th>\n",
       "      <th>Shallow water</th>\n",
       "    </tr>\n",
       "  </thead>\n",
       "  <tbody>\n",
       "    <tr>\n",
       "      <th>0</th>\n",
       "      <td>310</td>\n",
       "      <td>298.0</td>\n",
       "      <td>312.0</td>\n",
       "    </tr>\n",
       "    <tr>\n",
       "      <th>1</th>\n",
       "      <td>310</td>\n",
       "      <td>298.0</td>\n",
       "      <td>311.0</td>\n",
       "    </tr>\n",
       "    <tr>\n",
       "      <th>2</th>\n",
       "      <td>310</td>\n",
       "      <td>298.0</td>\n",
       "      <td>310.0</td>\n",
       "    </tr>\n",
       "    <tr>\n",
       "      <th>3</th>\n",
       "      <td>310</td>\n",
       "      <td>297.0</td>\n",
       "      <td>310.0</td>\n",
       "    </tr>\n",
       "    <tr>\n",
       "      <th>4</th>\n",
       "      <td>310</td>\n",
       "      <td>297.0</td>\n",
       "      <td>310.0</td>\n",
       "    </tr>\n",
       "  </tbody>\n",
       "</table>\n",
       "</div>"
      ],
      "text/plain": [
       "   Deep water  Deep-to-shallow  Shallow water\n",
       "0         310            298.0          312.0\n",
       "1         310            298.0          311.0\n",
       "2         310            298.0          310.0\n",
       "3         310            297.0          310.0\n",
       "4         310            297.0          310.0"
      ]
     },
     "execution_count": 20,
     "metadata": {},
     "output_type": "execute_result"
    }
   ],
   "source": [
    "#Combine dataframes\n",
    "\n",
    "df10 = pd.concat([df7, df8, df9], axis=1)\n",
    "\n",
    "#Extracting features\n",
    "\n",
    "sub_df2=df10[['Deep water', 'Deep-to-shallow', 'Shallow water']].copy()   \n",
    "sub_df2.head()"
   ]
  },
  {
   "cell_type": "code",
   "execution_count": 21,
   "metadata": {},
   "outputs": [
    {
     "name": "stdout",
     "output_type": "stream",
     "text": [
      "Color Brewer Palettes:\n",
      "Purples:  ['#dadaeb', '#9e9ac8', '#6950a3']\n"
     ]
    }
   ],
   "source": [
    "#Color Brewer palettes\n",
    "#brewermap.m\n",
    "#https://www.codecademy.com/article/seaborn-design-ii\n",
    "\n",
    "print(\"Color Brewer Palettes:\")\n",
    "\n",
    "pal = sns.color_palette(\"Purples\", 3)\n",
    "print(\"Purples: \", pal.as_hex())"
   ]
  },
  {
   "cell_type": "code",
   "execution_count": 22,
   "metadata": {},
   "outputs": [
    {
     "data": {
      "text/plain": [
       "Text(0.5, 1.0, 'Elevation of Glaciolacustrine Sediment Subunits')"
      ]
     },
     "execution_count": 22,
     "metadata": {},
     "output_type": "execute_result"
    },
    {
     "data": {
      "image/png": "[encoded data removed]",
      "text/plain": [
       "<Figure size 504x360 with 1 Axes>"
      ]
     },
     "metadata": {
      "needs_background": "light"
     },
     "output_type": "display_data"
    }
   ],
   "source": [
    "#Histogram of Glacial Lake Subunits\n",
    "colors = ['#dadaeb', '#9e9ac8', '#6950a3']\n",
    "\n",
    "sub_df2[[\"Shallow water\", \"Deep water\", \"Deep-to-shallow\"]].plot.hist(alpha=0.6,\n",
    "                                                     bins=15,\n",
    "                                                     color=colors,\n",
    "                                                     log=True,\n",
    "                                                     grid=False,\n",
    "                                                     figsize = (7,5))\n",
    "\n",
    "\n",
    "plt.xlabel('Elevation (masl)')\n",
    "plt.ylabel('Pixel Count (1 Pixel \\u2248 297 m$^{2}$)')\n",
    "\n",
    "\n",
    "plt.title('Elevation of Glaciolacustrine Sediment Subunits')"
   ]
  },
  {
   "cell_type": "code",
   "execution_count": 23,
   "metadata": {},
   "outputs": [
    {
     "data": {
      "text/html": [
       "<div>\n",
       "<style scoped>\n",
       "    .dataframe tbody tr th:only-of-type {\n",
       "        vertical-align: middle;\n",
       "    }\n",
       "\n",
       "    .dataframe tbody tr th {\n",
       "        vertical-align: top;\n",
       "    }\n",
       "\n",
       "    .dataframe thead th {\n",
       "        text-align: right;\n",
       "    }\n",
       "</style>\n",
       "<table border=\"1\" class=\"dataframe\">\n",
       "  <thead>\n",
       "    <tr style=\"text-align: right;\">\n",
       "      <th></th>\n",
       "      <th>Deep water</th>\n",
       "      <th>Deep-to-shallow</th>\n",
       "      <th>Shallow water</th>\n",
       "      <th>Till</th>\n",
       "      <th>Glaciolacustrine</th>\n",
       "      <th>Bedrock</th>\n",
       "      <th>Continuous</th>\n",
       "      <th>Discontinuous</th>\n",
       "    </tr>\n",
       "  </thead>\n",
       "  <tbody>\n",
       "    <tr>\n",
       "      <th>0</th>\n",
       "      <td>310.0</td>\n",
       "      <td>298.0</td>\n",
       "      <td>312.0</td>\n",
       "      <td>309.0</td>\n",
       "      <td>312</td>\n",
       "      <td>323.0</td>\n",
       "      <td>309.0</td>\n",
       "      <td>313.0</td>\n",
       "    </tr>\n",
       "    <tr>\n",
       "      <th>1</th>\n",
       "      <td>310.0</td>\n",
       "      <td>298.0</td>\n",
       "      <td>311.0</td>\n",
       "      <td>310.0</td>\n",
       "      <td>311</td>\n",
       "      <td>324.0</td>\n",
       "      <td>310.0</td>\n",
       "      <td>313.0</td>\n",
       "    </tr>\n",
       "    <tr>\n",
       "      <th>2</th>\n",
       "      <td>310.0</td>\n",
       "      <td>298.0</td>\n",
       "      <td>310.0</td>\n",
       "      <td>310.0</td>\n",
       "      <td>310</td>\n",
       "      <td>324.0</td>\n",
       "      <td>310.0</td>\n",
       "      <td>314.0</td>\n",
       "    </tr>\n",
       "    <tr>\n",
       "      <th>3</th>\n",
       "      <td>310.0</td>\n",
       "      <td>297.0</td>\n",
       "      <td>310.0</td>\n",
       "      <td>310.0</td>\n",
       "      <td>310</td>\n",
       "      <td>324.0</td>\n",
       "      <td>310.0</td>\n",
       "      <td>314.0</td>\n",
       "    </tr>\n",
       "    <tr>\n",
       "      <th>4</th>\n",
       "      <td>310.0</td>\n",
       "      <td>297.0</td>\n",
       "      <td>310.0</td>\n",
       "      <td>310.0</td>\n",
       "      <td>310</td>\n",
       "      <td>324.0</td>\n",
       "      <td>310.0</td>\n",
       "      <td>320.0</td>\n",
       "    </tr>\n",
       "  </tbody>\n",
       "</table>\n",
       "</div>"
      ],
      "text/plain": [
       "   Deep water  Deep-to-shallow  Shallow water   Till  Glaciolacustrine  \\\n",
       "0       310.0            298.0          312.0  309.0               312   \n",
       "1       310.0            298.0          311.0  310.0               311   \n",
       "2       310.0            298.0          310.0  310.0               310   \n",
       "3       310.0            297.0          310.0  310.0               310   \n",
       "4       310.0            297.0          310.0  310.0               310   \n",
       "\n",
       "   Bedrock  Continuous  Discontinuous  \n",
       "0    323.0       309.0          313.0  \n",
       "1    324.0       310.0          313.0  \n",
       "2    324.0       310.0          314.0  \n",
       "3    324.0       310.0          314.0  \n",
       "4    324.0       310.0          320.0  "
      ]
     },
     "execution_count": 23,
     "metadata": {},
     "output_type": "execute_result"
    }
   ],
   "source": [
    "df11 = pd.concat([sub_df2, df6], axis=1)\n",
    "\n",
    "df11.head()"
   ]
  },
  {
   "cell_type": "code",
   "execution_count": 24,
   "metadata": {},
   "outputs": [
    {
     "data": {
      "text/plain": [
       "Text(0.5, 1.0, 'Elevation of Glaciolacustrine Sediment Units')"
      ]
     },
     "execution_count": 24,
     "metadata": {},
     "output_type": "execute_result"
    },
    {
     "data": {
      "image/png": "[encoded data removed]",
      "text/plain": [
       "<Figure size 504x360 with 1 Axes>"
      ]
     },
     "metadata": {
      "needs_background": "light"
     },
     "output_type": "display_data"
    }
   ],
   "source": [
    "#Histogram of Glacial Lake Subunits & Bedrock\n",
    "colors = ['#e98585', '#dadaeb', '#9e9ac8']\n",
    "\n",
    "df11[[\"Bedrock\", \"Shallow water\", \"Deep water\"]].plot.hist(alpha=0.6,\n",
    "                                                     bins=15,\n",
    "                                                     color=colors,\n",
    "                                                     log=True,\n",
    "                                                     grid=False,\n",
    "                                                     figsize = (7,5))\n",
    "\n",
    "\n",
    "plt.xlabel('Elevation (masl)')\n",
    "plt.ylabel('Pixel Count (1 Pixel \\u2248 297 m$^{2}$)')\n",
    "\n",
    "\n",
    "plt.title('Elevation of Glaciolacustrine Sediment Units')"
   ]
  },
  {
   "cell_type": "markdown",
   "metadata": {},
   "source": [
    "## Histograms of Other Surficial Units"
   ]
  },
  {
   "cell_type": "code",
   "execution_count": 25,
   "metadata": {},
   "outputs": [
    {
     "name": "stdout",
     "output_type": "stream",
     "text": [
      "Min elevation: \n",
      "Glaciolacustrine    286\n",
      "dtype: int64\n"
     ]
    }
   ],
   "source": [
    "#Import data\n",
    "df12 = pd.read_csv(r'C:\\Users\\ctayl\\Desktop\\Malartic\\Python\\Elevation_main_units.csv')\n",
    "df12.head()\n",
    "\n",
    "print(\"Min elevation: \")\n",
    "print(sub_df[[\"Glaciolacustrine\"]].min())"
   ]
  },
  {
   "cell_type": "code",
   "execution_count": 26,
   "metadata": {},
   "outputs": [
    {
     "name": "stdout",
     "output_type": "stream",
     "text": [
      "Color Brewer Palettes:\n",
      "Oranges:  ['#fd8c3b']\n"
     ]
    }
   ],
   "source": [
    "#Color Brewer palettes\n",
    "#brewermap.m\n",
    "#https://www.codecademy.com/article/seaborn-design-ii\n",
    "\n",
    "print(\"Color Brewer Palettes:\")\n",
    "\n",
    "pal = sns.color_palette(\"Oranges\", 1)\n",
    "print(\"Oranges: \", pal.as_hex())"
   ]
  },
  {
   "cell_type": "code",
   "execution_count": 27,
   "metadata": {},
   "outputs": [
    {
     "data": {
      "text/plain": [
       "Text(0.5, 1.0, 'Elevation of Alluvial Sediments')"
      ]
     },
     "execution_count": 27,
     "metadata": {},
     "output_type": "execute_result"
    },
    {
     "data": {
      "image/png": "[encoded data removed]",
      "text/plain": [
       "<Figure size 504x360 with 1 Axes>"
      ]
     },
     "metadata": {
      "needs_background": "light"
     },
     "output_type": "display_data"
    }
   ],
   "source": [
    "#Histogram for alluvial sediments\n",
    "\n",
    "colors = ['gold']\n",
    "\n",
    "df12[[\"Alluvial\"]].plot.hist(alpha=0.7,\n",
    "                        bins=15,\n",
    "                        color=colors,\n",
    "                        log=True,\n",
    "                        grid=False,\n",
    "                        figsize = (7,5),\n",
    "                        legend=False)\n",
    "\n",
    "plt.xlabel('Elevation (masl)')\n",
    "plt.ylabel('Pixel Count (1 Pixel \\u2248 297 m$^{2}$)')\n",
    "\n",
    "plt.title('Elevation of Alluvial Sediments')"
   ]
  },
  {
   "cell_type": "code",
   "execution_count": 28,
   "metadata": {},
   "outputs": [
    {
     "data": {
      "text/plain": [
       "Text(0.5, 1.0, 'Elevation of Esker Sediments')"
      ]
     },
     "execution_count": 28,
     "metadata": {},
     "output_type": "execute_result"
    },
    {
     "data": {
      "image/png": "[encoded data removed]",
      "text/plain": [
       "<Figure size 504x360 with 1 Axes>"
      ]
     },
     "metadata": {
      "needs_background": "light"
     },
     "output_type": "display_data"
    }
   ],
   "source": [
    "#Histogram for glaciofluvial sediments\n",
    "\n",
    "colors = ['#fd8c3b']\n",
    "\n",
    "df12[[\"Esker\"]].plot.hist(alpha=0.7,\n",
    "                        bins=15,\n",
    "                        color=colors,\n",
    "                        log=True,\n",
    "                        grid=False,\n",
    "                        figsize = (7,5),\n",
    "                        legend=False)\n",
    "\n",
    "plt.xlabel('Elevation (masl)')\n",
    "plt.ylabel('Pixel Count (1 Pixel \\u2248 297 m$^{2}$)')\n",
    "\n",
    "plt.title('Elevation of Esker Sediments')"
   ]
  },
  {
   "cell_type": "code",
   "execution_count": 29,
   "metadata": {},
   "outputs": [
    {
     "data": {
      "text/plain": [
       "Text(0.5, 1.0, 'Elevation of Organic Sediments')"
      ]
     },
     "execution_count": 29,
     "metadata": {},
     "output_type": "execute_result"
    },
    {
     "data": {
      "image/png": "[encoded data removed]",
      "text/plain": [
       "<Figure size 504x360 with 1 Axes>"
      ]
     },
     "metadata": {
      "needs_background": "light"
     },
     "output_type": "display_data"
    }
   ],
   "source": [
    "#Histogram for organic sediments\n",
    "\n",
    "colors = ['silver']\n",
    "\n",
    "df12[[\"Organic\"]].plot.hist(alpha=0.7,\n",
    "                        bins=15,\n",
    "                        color=colors,\n",
    "                        log=True,\n",
    "                        grid=False,\n",
    "                        figsize = (7,5),\n",
    "                        legend=False)\n",
    "\n",
    "plt.xlabel('Elevation (masl)')\n",
    "plt.ylabel('Pixel Count (1 Pixel \\u2248 297 m$^{2}$)')\n",
    "\n",
    "plt.title('Elevation of Organic Sediments')"
   ]
  },
  {
   "cell_type": "code",
   "execution_count": 30,
   "metadata": {},
   "outputs": [
    {
     "data": {
      "text/plain": [
       "Text(386, 820, '385 masl')"
      ]
     },
     "execution_count": 30,
     "metadata": {},
     "output_type": "execute_result"
    },
    {
     "data": {
      "image/png": "[encoded data removed]",
      "text/plain": [
       "<Figure size 504x360 with 1 Axes>"
      ]
     },
     "metadata": {
      "needs_background": "light"
     },
     "output_type": "display_data"
    }
   ],
   "source": [
    "#Histogram of Organic, Alluvial & Esker Sediments\n",
    "colors = ['silver', 'gold', '#fd8c3b']\n",
    "\n",
    "df12[[\"Organic\", \"Alluvial\", \"Esker\"]].plot.hist(alpha=0.6,\n",
    "                                                     bins=15,\n",
    "                                                     color=colors,\n",
    "                                                     log=True,\n",
    "                                                     grid=False,\n",
    "                                                     figsize = (7,5))\n",
    "\n",
    "\n",
    "plt.xlabel('Elevation (masl)')\n",
    "plt.ylabel('Pixel Count (1 Pixel \\u2248 297 m$^{2}$)')\n",
    "\n",
    "\n",
    "plt.title('Elevation of Organic, Alluvial & Esker Sediment Units')\n",
    "\n",
    "#add line\n",
    "plt.axvline(x=385, color='k', linestyle='--', linewidth=1)\n",
    "\n",
    "#text for line\n",
    "plt.text(386, 820, '385 masl', fontsize=9)\n",
    "\n",
    "\n",
    "#plt.savefig(r'C:\\Users\\ctayl\\Desktop\\Malartic\\Python\\Elevation_organic_alluvial_esker.png', format='png')"
   ]
  },
  {
   "cell_type": "markdown",
   "metadata": {},
   "source": [
    "# Summary Statistics"
   ]
  },
  {
   "cell_type": "code",
   "execution_count": 31,
   "metadata": {},
   "outputs": [
    {
     "data": {
      "text/html": [
       "<div>\n",
       "<style scoped>\n",
       "    .dataframe tbody tr th:only-of-type {\n",
       "        vertical-align: middle;\n",
       "    }\n",
       "\n",
       "    .dataframe tbody tr th {\n",
       "        vertical-align: top;\n",
       "    }\n",
       "\n",
       "    .dataframe thead th {\n",
       "        text-align: right;\n",
       "    }\n",
       "</style>\n",
       "<table border=\"1\" class=\"dataframe\">\n",
       "  <thead>\n",
       "    <tr style=\"text-align: right;\">\n",
       "      <th></th>\n",
       "      <th>Till</th>\n",
       "      <th>Glaciolacustrine</th>\n",
       "      <th>Bedrock</th>\n",
       "    </tr>\n",
       "  </thead>\n",
       "  <tbody>\n",
       "    <tr>\n",
       "      <th>0</th>\n",
       "      <td>309.0</td>\n",
       "      <td>312</td>\n",
       "      <td>323.0</td>\n",
       "    </tr>\n",
       "    <tr>\n",
       "      <th>1</th>\n",
       "      <td>310.0</td>\n",
       "      <td>311</td>\n",
       "      <td>324.0</td>\n",
       "    </tr>\n",
       "    <tr>\n",
       "      <th>2</th>\n",
       "      <td>310.0</td>\n",
       "      <td>310</td>\n",
       "      <td>324.0</td>\n",
       "    </tr>\n",
       "    <tr>\n",
       "      <th>3</th>\n",
       "      <td>310.0</td>\n",
       "      <td>310</td>\n",
       "      <td>324.0</td>\n",
       "    </tr>\n",
       "    <tr>\n",
       "      <th>4</th>\n",
       "      <td>310.0</td>\n",
       "      <td>310</td>\n",
       "      <td>324.0</td>\n",
       "    </tr>\n",
       "  </tbody>\n",
       "</table>\n",
       "</div>"
      ],
      "text/plain": [
       "    Till  Glaciolacustrine  Bedrock\n",
       "0  309.0               312    323.0\n",
       "1  310.0               311    324.0\n",
       "2  310.0               310    324.0\n",
       "3  310.0               310    324.0\n",
       "4  310.0               310    324.0"
      ]
     },
     "execution_count": 31,
     "metadata": {},
     "output_type": "execute_result"
    }
   ],
   "source": [
    "#Finding all surficial units from all dataframes\n",
    "\n",
    "#Extracting features from main units\n",
    "\n",
    "main=df4[['Till', 'Glaciolacustrine', 'Bedrock']].copy()   \n",
    "main.head()"
   ]
  },
  {
   "cell_type": "code",
   "execution_count": 32,
   "metadata": {},
   "outputs": [
    {
     "data": {
      "text/html": [
       "<div>\n",
       "<style scoped>\n",
       "    .dataframe tbody tr th:only-of-type {\n",
       "        vertical-align: middle;\n",
       "    }\n",
       "\n",
       "    .dataframe tbody tr th {\n",
       "        vertical-align: top;\n",
       "    }\n",
       "\n",
       "    .dataframe thead th {\n",
       "        text-align: right;\n",
       "    }\n",
       "</style>\n",
       "<table border=\"1\" class=\"dataframe\">\n",
       "  <thead>\n",
       "    <tr style=\"text-align: right;\">\n",
       "      <th></th>\n",
       "      <th>Organic</th>\n",
       "      <th>Alluvial</th>\n",
       "      <th>Esker</th>\n",
       "    </tr>\n",
       "  </thead>\n",
       "  <tbody>\n",
       "    <tr>\n",
       "      <th>0</th>\n",
       "      <td>309.0</td>\n",
       "      <td>317.0</td>\n",
       "      <td>310.0</td>\n",
       "    </tr>\n",
       "    <tr>\n",
       "      <th>1</th>\n",
       "      <td>310.0</td>\n",
       "      <td>317.0</td>\n",
       "      <td>310.0</td>\n",
       "    </tr>\n",
       "    <tr>\n",
       "      <th>2</th>\n",
       "      <td>310.0</td>\n",
       "      <td>317.0</td>\n",
       "      <td>310.0</td>\n",
       "    </tr>\n",
       "    <tr>\n",
       "      <th>3</th>\n",
       "      <td>310.0</td>\n",
       "      <td>310.0</td>\n",
       "      <td>310.0</td>\n",
       "    </tr>\n",
       "    <tr>\n",
       "      <th>4</th>\n",
       "      <td>310.0</td>\n",
       "      <td>310.0</td>\n",
       "      <td>310.0</td>\n",
       "    </tr>\n",
       "  </tbody>\n",
       "</table>\n",
       "</div>"
      ],
      "text/plain": [
       "   Organic  Alluvial  Esker\n",
       "0    309.0     317.0  310.0\n",
       "1    310.0     317.0  310.0\n",
       "2    310.0     317.0  310.0\n",
       "3    310.0     310.0  310.0\n",
       "4    310.0     310.0  310.0"
      ]
     },
     "execution_count": 32,
     "metadata": {},
     "output_type": "execute_result"
    }
   ],
   "source": [
    "#Finding all surficial units from all dataframes\n",
    "\n",
    "#Extracting features from minor units\n",
    "\n",
    "minor=df12[[\"Organic\", \"Alluvial\", \"Esker\"]].copy()   \n",
    "minor.head()"
   ]
  },
  {
   "cell_type": "code",
   "execution_count": 33,
   "metadata": {},
   "outputs": [
    {
     "data": {
      "text/html": [
       "<div>\n",
       "<style scoped>\n",
       "    .dataframe tbody tr th:only-of-type {\n",
       "        vertical-align: middle;\n",
       "    }\n",
       "\n",
       "    .dataframe tbody tr th {\n",
       "        vertical-align: top;\n",
       "    }\n",
       "\n",
       "    .dataframe thead th {\n",
       "        text-align: right;\n",
       "    }\n",
       "</style>\n",
       "<table border=\"1\" class=\"dataframe\">\n",
       "  <thead>\n",
       "    <tr style=\"text-align: right;\">\n",
       "      <th></th>\n",
       "      <th>Till</th>\n",
       "      <th>Glaciolacustrine</th>\n",
       "      <th>Bedrock</th>\n",
       "      <th>Organic</th>\n",
       "      <th>Alluvial</th>\n",
       "      <th>Esker</th>\n",
       "    </tr>\n",
       "  </thead>\n",
       "  <tbody>\n",
       "    <tr>\n",
       "      <th>0</th>\n",
       "      <td>309.0</td>\n",
       "      <td>312</td>\n",
       "      <td>323.0</td>\n",
       "      <td>309.0</td>\n",
       "      <td>317.0</td>\n",
       "      <td>310.0</td>\n",
       "    </tr>\n",
       "    <tr>\n",
       "      <th>1</th>\n",
       "      <td>310.0</td>\n",
       "      <td>311</td>\n",
       "      <td>324.0</td>\n",
       "      <td>310.0</td>\n",
       "      <td>317.0</td>\n",
       "      <td>310.0</td>\n",
       "    </tr>\n",
       "    <tr>\n",
       "      <th>2</th>\n",
       "      <td>310.0</td>\n",
       "      <td>310</td>\n",
       "      <td>324.0</td>\n",
       "      <td>310.0</td>\n",
       "      <td>317.0</td>\n",
       "      <td>310.0</td>\n",
       "    </tr>\n",
       "    <tr>\n",
       "      <th>3</th>\n",
       "      <td>310.0</td>\n",
       "      <td>310</td>\n",
       "      <td>324.0</td>\n",
       "      <td>310.0</td>\n",
       "      <td>310.0</td>\n",
       "      <td>310.0</td>\n",
       "    </tr>\n",
       "    <tr>\n",
       "      <th>4</th>\n",
       "      <td>310.0</td>\n",
       "      <td>310</td>\n",
       "      <td>324.0</td>\n",
       "      <td>310.0</td>\n",
       "      <td>310.0</td>\n",
       "      <td>310.0</td>\n",
       "    </tr>\n",
       "  </tbody>\n",
       "</table>\n",
       "</div>"
      ],
      "text/plain": [
       "    Till  Glaciolacustrine  Bedrock  Organic  Alluvial  Esker\n",
       "0  309.0               312    323.0    309.0     317.0  310.0\n",
       "1  310.0               311    324.0    310.0     317.0  310.0\n",
       "2  310.0               310    324.0    310.0     317.0  310.0\n",
       "3  310.0               310    324.0    310.0     310.0  310.0\n",
       "4  310.0               310    324.0    310.0     310.0  310.0"
      ]
     },
     "execution_count": 33,
     "metadata": {},
     "output_type": "execute_result"
    }
   ],
   "source": [
    "#Combine main and minor surficial units into one dataframe\n",
    "\n",
    "df_all = pd.concat([main, minor], axis=1)\n",
    "\n",
    "df_all.head()"
   ]
  },
  {
   "cell_type": "code",
   "execution_count": 57,
   "metadata": {},
   "outputs": [
    {
     "data": {
      "text/html": [
       "<div>\n",
       "<style scoped>\n",
       "    .dataframe tbody tr th:only-of-type {\n",
       "        vertical-align: middle;\n",
       "    }\n",
       "\n",
       "    .dataframe tbody tr th {\n",
       "        vertical-align: top;\n",
       "    }\n",
       "\n",
       "    .dataframe thead th {\n",
       "        text-align: right;\n",
       "    }\n",
       "</style>\n",
       "<table border=\"1\" class=\"dataframe\">\n",
       "  <thead>\n",
       "    <tr style=\"text-align: right;\">\n",
       "      <th></th>\n",
       "      <th>Glaciolacustrine</th>\n",
       "      <th>Till</th>\n",
       "      <th>Bedrock</th>\n",
       "      <th>Organic</th>\n",
       "      <th>Alluvial</th>\n",
       "      <th>Esker</th>\n",
       "    </tr>\n",
       "  </thead>\n",
       "  <tbody>\n",
       "    <tr>\n",
       "      <th>count</th>\n",
       "      <td>2.147211e+06</td>\n",
       "      <td>789752.000000</td>\n",
       "      <td>338708.000000</td>\n",
       "      <td>490602.000000</td>\n",
       "      <td>108007.000000</td>\n",
       "      <td>70018.000000</td>\n",
       "    </tr>\n",
       "    <tr>\n",
       "      <th>mean</th>\n",
       "      <td>3.103993e+02</td>\n",
       "      <td>340.520019</td>\n",
       "      <td>339.815835</td>\n",
       "      <td>313.990322</td>\n",
       "      <td>310.390975</td>\n",
       "      <td>317.028307</td>\n",
       "    </tr>\n",
       "    <tr>\n",
       "      <th>std</th>\n",
       "      <td>1.404476e+01</td>\n",
       "      <td>22.223319</td>\n",
       "      <td>25.470327</td>\n",
       "      <td>14.846605</td>\n",
       "      <td>15.013192</td>\n",
       "      <td>10.766682</td>\n",
       "    </tr>\n",
       "    <tr>\n",
       "      <th>min</th>\n",
       "      <td>2.860000e+02</td>\n",
       "      <td>290.000000</td>\n",
       "      <td>294.000000</td>\n",
       "      <td>291.000000</td>\n",
       "      <td>285.000000</td>\n",
       "      <td>290.000000</td>\n",
       "    </tr>\n",
       "    <tr>\n",
       "      <th>25%</th>\n",
       "      <td>3.000000e+02</td>\n",
       "      <td>325.000000</td>\n",
       "      <td>319.000000</td>\n",
       "      <td>304.000000</td>\n",
       "      <td>299.000000</td>\n",
       "      <td>310.000000</td>\n",
       "    </tr>\n",
       "    <tr>\n",
       "      <th>50%</th>\n",
       "      <td>3.080000e+02</td>\n",
       "      <td>340.000000</td>\n",
       "      <td>338.000000</td>\n",
       "      <td>310.000000</td>\n",
       "      <td>308.000000</td>\n",
       "      <td>317.000000</td>\n",
       "    </tr>\n",
       "    <tr>\n",
       "      <th>75%</th>\n",
       "      <td>3.190000e+02</td>\n",
       "      <td>353.000000</td>\n",
       "      <td>360.000000</td>\n",
       "      <td>322.000000</td>\n",
       "      <td>320.000000</td>\n",
       "      <td>324.000000</td>\n",
       "    </tr>\n",
       "    <tr>\n",
       "      <th>max</th>\n",
       "      <td>3.800000e+02</td>\n",
       "      <td>430.000000</td>\n",
       "      <td>429.000000</td>\n",
       "      <td>410.000000</td>\n",
       "      <td>374.000000</td>\n",
       "      <td>360.000000</td>\n",
       "    </tr>\n",
       "  </tbody>\n",
       "</table>\n",
       "</div>"
      ],
      "text/plain": [
       "       Glaciolacustrine           Till        Bedrock        Organic  \\\n",
       "count      2.147211e+06  789752.000000  338708.000000  490602.000000   \n",
       "mean       3.103993e+02     340.520019     339.815835     313.990322   \n",
       "std        1.404476e+01      22.223319      25.470327      14.846605   \n",
       "min        2.860000e+02     290.000000     294.000000     291.000000   \n",
       "25%        3.000000e+02     325.000000     319.000000     304.000000   \n",
       "50%        3.080000e+02     340.000000     338.000000     310.000000   \n",
       "75%        3.190000e+02     353.000000     360.000000     322.000000   \n",
       "max        3.800000e+02     430.000000     429.000000     410.000000   \n",
       "\n",
       "            Alluvial         Esker  \n",
       "count  108007.000000  70018.000000  \n",
       "mean      310.390975    317.028307  \n",
       "std        15.013192     10.766682  \n",
       "min       285.000000    290.000000  \n",
       "25%       299.000000    310.000000  \n",
       "50%       308.000000    317.000000  \n",
       "75%       320.000000    324.000000  \n",
       "max       374.000000    360.000000  "
      ]
     },
     "execution_count": 57,
     "metadata": {},
     "output_type": "execute_result"
    }
   ],
   "source": [
    "#Find summary stats\n",
    "df_stats = df_all[[\"Glaciolacustrine\", \"Till\", \"Bedrock\", \"Organic\", \"Alluvial\", \"Esker\"]].describe()\n",
    "\n",
    "df_stats"
   ]
  },
  {
   "cell_type": "code",
   "execution_count": null,
   "metadata": {},
   "outputs": [],
   "source": [
    "#Export to csv\n",
    "\n",
    "#df_stats.to_csv('elevation_stats.csv')"
   ]
  },
  {
   "cell_type": "code",
   "execution_count": 52,
   "metadata": {},
   "outputs": [
    {
     "name": "stdout",
     "output_type": "stream",
     "text": [
      "Median: \n"
     ]
    },
    {
     "data": {
      "text/plain": [
       "Glaciolacustrine    308.0\n",
       "Till                340.0\n",
       "Bedrock             338.0\n",
       "Organic             310.0\n",
       "Alluvial            308.0\n",
       "Esker               317.0\n",
       "dtype: float64"
      ]
     },
     "execution_count": 52,
     "metadata": {},
     "output_type": "execute_result"
    }
   ],
   "source": [
    "#More stats\n",
    "\n",
    "print(\"Median: \")\n",
    "df_all[[\"Glaciolacustrine\", \"Till\", \"Bedrock\", \"Organic\", \"Alluvial\", \"Esker\"]].median()"
   ]
  },
  {
   "cell_type": "code",
   "execution_count": 50,
   "metadata": {},
   "outputs": [
    {
     "name": "stdout",
     "output_type": "stream",
     "text": [
      "Mode: \n"
     ]
    },
    {
     "data": {
      "text/html": [
       "<div>\n",
       "<style scoped>\n",
       "    .dataframe tbody tr th:only-of-type {\n",
       "        vertical-align: middle;\n",
       "    }\n",
       "\n",
       "    .dataframe tbody tr th {\n",
       "        vertical-align: top;\n",
       "    }\n",
       "\n",
       "    .dataframe thead th {\n",
       "        text-align: right;\n",
       "    }\n",
       "</style>\n",
       "<table border=\"1\" class=\"dataframe\">\n",
       "  <thead>\n",
       "    <tr style=\"text-align: right;\">\n",
       "      <th></th>\n",
       "      <th>Glaciolacustrine</th>\n",
       "      <th>Till</th>\n",
       "      <th>Bedrock</th>\n",
       "      <th>Organic</th>\n",
       "      <th>Alluvial</th>\n",
       "      <th>Esker</th>\n",
       "    </tr>\n",
       "  </thead>\n",
       "  <tbody>\n",
       "    <tr>\n",
       "      <th>0</th>\n",
       "      <td>294</td>\n",
       "      <td>340.0</td>\n",
       "      <td>310.0</td>\n",
       "      <td>310.0</td>\n",
       "      <td>300.0</td>\n",
       "      <td>310.0</td>\n",
       "    </tr>\n",
       "  </tbody>\n",
       "</table>\n",
       "</div>"
      ],
      "text/plain": [
       "   Glaciolacustrine   Till  Bedrock  Organic  Alluvial  Esker\n",
       "0               294  340.0    310.0    310.0     300.0  310.0"
      ]
     },
     "execution_count": 50,
     "metadata": {},
     "output_type": "execute_result"
    }
   ],
   "source": [
    "print(\"Mode: \")\n",
    "df_all[[\"Glaciolacustrine\", \"Till\", \"Bedrock\", \"Organic\", \"Alluvial\", \"Esker\"]].mode()"
   ]
  },
  {
   "cell_type": "code",
   "execution_count": 51,
   "metadata": {},
   "outputs": [
    {
     "name": "stdout",
     "output_type": "stream",
     "text": [
      "Var: \n"
     ]
    },
    {
     "data": {
      "text/plain": [
       "Glaciolacustrine    197.255265\n",
       "Till                493.875927\n",
       "Bedrock             648.737558\n",
       "Organic             220.421671\n",
       "Alluvial            225.395922\n",
       "Esker               115.921446\n",
       "dtype: float64"
      ]
     },
     "execution_count": 51,
     "metadata": {},
     "output_type": "execute_result"
    }
   ],
   "source": [
    "print(\"Var: \")\n",
    "df_all[[\"Glaciolacustrine\", \"Till\", \"Bedrock\", \"Organic\", \"Alluvial\", \"Esker\"]].var()"
   ]
  },
  {
   "cell_type": "code",
   "execution_count": 53,
   "metadata": {},
   "outputs": [
    {
     "data": {
      "text/html": [
       "<div>\n",
       "<style scoped>\n",
       "    .dataframe tbody tr th:only-of-type {\n",
       "        vertical-align: middle;\n",
       "    }\n",
       "\n",
       "    .dataframe tbody tr th {\n",
       "        vertical-align: top;\n",
       "    }\n",
       "\n",
       "    .dataframe thead th {\n",
       "        text-align: right;\n",
       "    }\n",
       "</style>\n",
       "<table border=\"1\" class=\"dataframe\">\n",
       "  <thead>\n",
       "    <tr style=\"text-align: right;\">\n",
       "      <th></th>\n",
       "      <th>Deep water</th>\n",
       "      <th>Deep-to-shallow</th>\n",
       "      <th>Shallow water</th>\n",
       "    </tr>\n",
       "  </thead>\n",
       "  <tbody>\n",
       "    <tr>\n",
       "      <th>0</th>\n",
       "      <td>310</td>\n",
       "      <td>298.0</td>\n",
       "      <td>312.0</td>\n",
       "    </tr>\n",
       "    <tr>\n",
       "      <th>1</th>\n",
       "      <td>310</td>\n",
       "      <td>298.0</td>\n",
       "      <td>311.0</td>\n",
       "    </tr>\n",
       "    <tr>\n",
       "      <th>2</th>\n",
       "      <td>310</td>\n",
       "      <td>298.0</td>\n",
       "      <td>310.0</td>\n",
       "    </tr>\n",
       "    <tr>\n",
       "      <th>3</th>\n",
       "      <td>310</td>\n",
       "      <td>297.0</td>\n",
       "      <td>310.0</td>\n",
       "    </tr>\n",
       "    <tr>\n",
       "      <th>4</th>\n",
       "      <td>310</td>\n",
       "      <td>297.0</td>\n",
       "      <td>310.0</td>\n",
       "    </tr>\n",
       "    <tr>\n",
       "      <th>...</th>\n",
       "      <td>...</td>\n",
       "      <td>...</td>\n",
       "      <td>...</td>\n",
       "    </tr>\n",
       "    <tr>\n",
       "      <th>1429231</th>\n",
       "      <td>317</td>\n",
       "      <td>NaN</td>\n",
       "      <td>NaN</td>\n",
       "    </tr>\n",
       "    <tr>\n",
       "      <th>1429232</th>\n",
       "      <td>317</td>\n",
       "      <td>NaN</td>\n",
       "      <td>NaN</td>\n",
       "    </tr>\n",
       "    <tr>\n",
       "      <th>1429233</th>\n",
       "      <td>317</td>\n",
       "      <td>NaN</td>\n",
       "      <td>NaN</td>\n",
       "    </tr>\n",
       "    <tr>\n",
       "      <th>1429234</th>\n",
       "      <td>318</td>\n",
       "      <td>NaN</td>\n",
       "      <td>NaN</td>\n",
       "    </tr>\n",
       "    <tr>\n",
       "      <th>1429235</th>\n",
       "      <td>318</td>\n",
       "      <td>NaN</td>\n",
       "      <td>NaN</td>\n",
       "    </tr>\n",
       "  </tbody>\n",
       "</table>\n",
       "<p>1429236 rows × 3 columns</p>\n",
       "</div>"
      ],
      "text/plain": [
       "         Deep water  Deep-to-shallow  Shallow water\n",
       "0               310            298.0          312.0\n",
       "1               310            298.0          311.0\n",
       "2               310            298.0          310.0\n",
       "3               310            297.0          310.0\n",
       "4               310            297.0          310.0\n",
       "...             ...              ...            ...\n",
       "1429231         317              NaN            NaN\n",
       "1429232         317              NaN            NaN\n",
       "1429233         317              NaN            NaN\n",
       "1429234         318              NaN            NaN\n",
       "1429235         318              NaN            NaN\n",
       "\n",
       "[1429236 rows x 3 columns]"
      ]
     },
     "execution_count": 53,
     "metadata": {},
     "output_type": "execute_result"
    }
   ],
   "source": [
    "#Finding all surficial subunits from glaciolacustrine seds\n",
    "\n",
    "sub_df2"
   ]
  },
  {
   "cell_type": "code",
   "execution_count": 54,
   "metadata": {},
   "outputs": [
    {
     "data": {
      "text/html": [
       "<div>\n",
       "<style scoped>\n",
       "    .dataframe tbody tr th:only-of-type {\n",
       "        vertical-align: middle;\n",
       "    }\n",
       "\n",
       "    .dataframe tbody tr th {\n",
       "        vertical-align: top;\n",
       "    }\n",
       "\n",
       "    .dataframe thead th {\n",
       "        text-align: right;\n",
       "    }\n",
       "</style>\n",
       "<table border=\"1\" class=\"dataframe\">\n",
       "  <thead>\n",
       "    <tr style=\"text-align: right;\">\n",
       "      <th></th>\n",
       "      <th>Continuous</th>\n",
       "      <th>Discontinuous</th>\n",
       "    </tr>\n",
       "  </thead>\n",
       "  <tbody>\n",
       "    <tr>\n",
       "      <th>0</th>\n",
       "      <td>309.0</td>\n",
       "      <td>313</td>\n",
       "    </tr>\n",
       "    <tr>\n",
       "      <th>1</th>\n",
       "      <td>310.0</td>\n",
       "      <td>313</td>\n",
       "    </tr>\n",
       "    <tr>\n",
       "      <th>2</th>\n",
       "      <td>310.0</td>\n",
       "      <td>314</td>\n",
       "    </tr>\n",
       "    <tr>\n",
       "      <th>3</th>\n",
       "      <td>310.0</td>\n",
       "      <td>314</td>\n",
       "    </tr>\n",
       "    <tr>\n",
       "      <th>4</th>\n",
       "      <td>310.0</td>\n",
       "      <td>320</td>\n",
       "    </tr>\n",
       "    <tr>\n",
       "      <th>...</th>\n",
       "      <td>...</td>\n",
       "      <td>...</td>\n",
       "    </tr>\n",
       "    <tr>\n",
       "      <th>552000</th>\n",
       "      <td>NaN</td>\n",
       "      <td>309</td>\n",
       "    </tr>\n",
       "    <tr>\n",
       "      <th>552001</th>\n",
       "      <td>NaN</td>\n",
       "      <td>309</td>\n",
       "    </tr>\n",
       "    <tr>\n",
       "      <th>552002</th>\n",
       "      <td>NaN</td>\n",
       "      <td>310</td>\n",
       "    </tr>\n",
       "    <tr>\n",
       "      <th>552003</th>\n",
       "      <td>NaN</td>\n",
       "      <td>310</td>\n",
       "    </tr>\n",
       "    <tr>\n",
       "      <th>552004</th>\n",
       "      <td>NaN</td>\n",
       "      <td>310</td>\n",
       "    </tr>\n",
       "  </tbody>\n",
       "</table>\n",
       "<p>552005 rows × 2 columns</p>\n",
       "</div>"
      ],
      "text/plain": [
       "        Continuous  Discontinuous\n",
       "0            309.0            313\n",
       "1            310.0            313\n",
       "2            310.0            314\n",
       "3            310.0            314\n",
       "4            310.0            320\n",
       "...            ...            ...\n",
       "552000         NaN            309\n",
       "552001         NaN            309\n",
       "552002         NaN            310\n",
       "552003         NaN            310\n",
       "552004         NaN            310\n",
       "\n",
       "[552005 rows x 2 columns]"
      ]
     },
     "execution_count": 54,
     "metadata": {},
     "output_type": "execute_result"
    }
   ],
   "source": [
    "#Finding all surficial subunits from till\n",
    "\n",
    "df5"
   ]
  },
  {
   "cell_type": "code",
   "execution_count": 55,
   "metadata": {},
   "outputs": [
    {
     "data": {
      "text/html": [
       "<div>\n",
       "<style scoped>\n",
       "    .dataframe tbody tr th:only-of-type {\n",
       "        vertical-align: middle;\n",
       "    }\n",
       "\n",
       "    .dataframe tbody tr th {\n",
       "        vertical-align: top;\n",
       "    }\n",
       "\n",
       "    .dataframe thead th {\n",
       "        text-align: right;\n",
       "    }\n",
       "</style>\n",
       "<table border=\"1\" class=\"dataframe\">\n",
       "  <thead>\n",
       "    <tr style=\"text-align: right;\">\n",
       "      <th></th>\n",
       "      <th>Deep water</th>\n",
       "      <th>Deep-to-shallow</th>\n",
       "      <th>Shallow water</th>\n",
       "      <th>Continuous</th>\n",
       "      <th>Discontinuous</th>\n",
       "    </tr>\n",
       "  </thead>\n",
       "  <tbody>\n",
       "    <tr>\n",
       "      <th>0</th>\n",
       "      <td>310</td>\n",
       "      <td>298.0</td>\n",
       "      <td>312.0</td>\n",
       "      <td>309.0</td>\n",
       "      <td>313.0</td>\n",
       "    </tr>\n",
       "    <tr>\n",
       "      <th>1</th>\n",
       "      <td>310</td>\n",
       "      <td>298.0</td>\n",
       "      <td>311.0</td>\n",
       "      <td>310.0</td>\n",
       "      <td>313.0</td>\n",
       "    </tr>\n",
       "    <tr>\n",
       "      <th>2</th>\n",
       "      <td>310</td>\n",
       "      <td>298.0</td>\n",
       "      <td>310.0</td>\n",
       "      <td>310.0</td>\n",
       "      <td>314.0</td>\n",
       "    </tr>\n",
       "    <tr>\n",
       "      <th>3</th>\n",
       "      <td>310</td>\n",
       "      <td>297.0</td>\n",
       "      <td>310.0</td>\n",
       "      <td>310.0</td>\n",
       "      <td>314.0</td>\n",
       "    </tr>\n",
       "    <tr>\n",
       "      <th>4</th>\n",
       "      <td>310</td>\n",
       "      <td>297.0</td>\n",
       "      <td>310.0</td>\n",
       "      <td>310.0</td>\n",
       "      <td>320.0</td>\n",
       "    </tr>\n",
       "    <tr>\n",
       "      <th>...</th>\n",
       "      <td>...</td>\n",
       "      <td>...</td>\n",
       "      <td>...</td>\n",
       "      <td>...</td>\n",
       "      <td>...</td>\n",
       "    </tr>\n",
       "    <tr>\n",
       "      <th>1429231</th>\n",
       "      <td>317</td>\n",
       "      <td>NaN</td>\n",
       "      <td>NaN</td>\n",
       "      <td>NaN</td>\n",
       "      <td>NaN</td>\n",
       "    </tr>\n",
       "    <tr>\n",
       "      <th>1429232</th>\n",
       "      <td>317</td>\n",
       "      <td>NaN</td>\n",
       "      <td>NaN</td>\n",
       "      <td>NaN</td>\n",
       "      <td>NaN</td>\n",
       "    </tr>\n",
       "    <tr>\n",
       "      <th>1429233</th>\n",
       "      <td>317</td>\n",
       "      <td>NaN</td>\n",
       "      <td>NaN</td>\n",
       "      <td>NaN</td>\n",
       "      <td>NaN</td>\n",
       "    </tr>\n",
       "    <tr>\n",
       "      <th>1429234</th>\n",
       "      <td>318</td>\n",
       "      <td>NaN</td>\n",
       "      <td>NaN</td>\n",
       "      <td>NaN</td>\n",
       "      <td>NaN</td>\n",
       "    </tr>\n",
       "    <tr>\n",
       "      <th>1429235</th>\n",
       "      <td>318</td>\n",
       "      <td>NaN</td>\n",
       "      <td>NaN</td>\n",
       "      <td>NaN</td>\n",
       "      <td>NaN</td>\n",
       "    </tr>\n",
       "  </tbody>\n",
       "</table>\n",
       "<p>1429236 rows × 5 columns</p>\n",
       "</div>"
      ],
      "text/plain": [
       "         Deep water  Deep-to-shallow  Shallow water  Continuous  Discontinuous\n",
       "0               310            298.0          312.0       309.0          313.0\n",
       "1               310            298.0          311.0       310.0          313.0\n",
       "2               310            298.0          310.0       310.0          314.0\n",
       "3               310            297.0          310.0       310.0          314.0\n",
       "4               310            297.0          310.0       310.0          320.0\n",
       "...             ...              ...            ...         ...            ...\n",
       "1429231         317              NaN            NaN         NaN            NaN\n",
       "1429232         317              NaN            NaN         NaN            NaN\n",
       "1429233         317              NaN            NaN         NaN            NaN\n",
       "1429234         318              NaN            NaN         NaN            NaN\n",
       "1429235         318              NaN            NaN         NaN            NaN\n",
       "\n",
       "[1429236 rows x 5 columns]"
      ]
     },
     "execution_count": 55,
     "metadata": {},
     "output_type": "execute_result"
    }
   ],
   "source": [
    "#Combine glaciolac and till subunits into one dataframe\n",
    "\n",
    "df_allsubs = pd.concat([sub_df2, df5], axis=1)\n",
    "\n",
    "df_allsubs"
   ]
  },
  {
   "cell_type": "code",
   "execution_count": 59,
   "metadata": {},
   "outputs": [
    {
     "data": {
      "text/html": [
       "<div>\n",
       "<style scoped>\n",
       "    .dataframe tbody tr th:only-of-type {\n",
       "        vertical-align: middle;\n",
       "    }\n",
       "\n",
       "    .dataframe tbody tr th {\n",
       "        vertical-align: top;\n",
       "    }\n",
       "\n",
       "    .dataframe thead th {\n",
       "        text-align: right;\n",
       "    }\n",
       "</style>\n",
       "<table border=\"1\" class=\"dataframe\">\n",
       "  <thead>\n",
       "    <tr style=\"text-align: right;\">\n",
       "      <th></th>\n",
       "      <th>Deep water</th>\n",
       "      <th>Deep-to-shallow</th>\n",
       "      <th>Shallow water</th>\n",
       "      <th>Continuous</th>\n",
       "      <th>Discontinuous</th>\n",
       "    </tr>\n",
       "  </thead>\n",
       "  <tbody>\n",
       "    <tr>\n",
       "      <th>count</th>\n",
       "      <td>1.429236e+06</td>\n",
       "      <td>41794.000000</td>\n",
       "      <td>676117.000000</td>\n",
       "      <td>237721.000000</td>\n",
       "      <td>552005.000000</td>\n",
       "    </tr>\n",
       "    <tr>\n",
       "      <th>mean</th>\n",
       "      <td>3.047799e+02</td>\n",
       "      <td>300.872518</td>\n",
       "      <td>322.866079</td>\n",
       "      <td>338.706151</td>\n",
       "      <td>341.302474</td>\n",
       "    </tr>\n",
       "    <tr>\n",
       "      <th>std</th>\n",
       "      <td>9.566491e+00</td>\n",
       "      <td>5.598026</td>\n",
       "      <td>14.256659</td>\n",
       "      <td>28.657845</td>\n",
       "      <td>18.730690</td>\n",
       "    </tr>\n",
       "    <tr>\n",
       "      <th>min</th>\n",
       "      <td>2.860000e+02</td>\n",
       "      <td>294.000000</td>\n",
       "      <td>294.000000</td>\n",
       "      <td>293.000000</td>\n",
       "      <td>290.000000</td>\n",
       "    </tr>\n",
       "    <tr>\n",
       "      <th>25%</th>\n",
       "      <td>2.970000e+02</td>\n",
       "      <td>296.000000</td>\n",
       "      <td>312.000000</td>\n",
       "      <td>317.000000</td>\n",
       "      <td>330.000000</td>\n",
       "    </tr>\n",
       "    <tr>\n",
       "      <th>50%</th>\n",
       "      <td>3.030000e+02</td>\n",
       "      <td>299.000000</td>\n",
       "      <td>322.000000</td>\n",
       "      <td>330.000000</td>\n",
       "      <td>340.000000</td>\n",
       "    </tr>\n",
       "    <tr>\n",
       "      <th>75%</th>\n",
       "      <td>3.100000e+02</td>\n",
       "      <td>305.000000</td>\n",
       "      <td>333.000000</td>\n",
       "      <td>357.000000</td>\n",
       "      <td>353.000000</td>\n",
       "    </tr>\n",
       "    <tr>\n",
       "      <th>max</th>\n",
       "      <td>3.680000e+02</td>\n",
       "      <td>326.000000</td>\n",
       "      <td>380.000000</td>\n",
       "      <td>430.000000</td>\n",
       "      <td>417.000000</td>\n",
       "    </tr>\n",
       "  </tbody>\n",
       "</table>\n",
       "</div>"
      ],
      "text/plain": [
       "         Deep water  Deep-to-shallow  Shallow water     Continuous  \\\n",
       "count  1.429236e+06     41794.000000  676117.000000  237721.000000   \n",
       "mean   3.047799e+02       300.872518     322.866079     338.706151   \n",
       "std    9.566491e+00         5.598026      14.256659      28.657845   \n",
       "min    2.860000e+02       294.000000     294.000000     293.000000   \n",
       "25%    2.970000e+02       296.000000     312.000000     317.000000   \n",
       "50%    3.030000e+02       299.000000     322.000000     330.000000   \n",
       "75%    3.100000e+02       305.000000     333.000000     357.000000   \n",
       "max    3.680000e+02       326.000000     380.000000     430.000000   \n",
       "\n",
       "       Discontinuous  \n",
       "count  552005.000000  \n",
       "mean      341.302474  \n",
       "std        18.730690  \n",
       "min       290.000000  \n",
       "25%       330.000000  \n",
       "50%       340.000000  \n",
       "75%       353.000000  \n",
       "max       417.000000  "
      ]
     },
     "execution_count": 59,
     "metadata": {},
     "output_type": "execute_result"
    }
   ],
   "source": [
    "#Find summary stats for subunits\n",
    "df_stats2 = df_allsubs[[\"Deep water\", \"Deep-to-shallow\", \"Shallow water\", \"Continuous\", \"Discontinuous\"]].describe()\n",
    "\n",
    "df_stats2"
   ]
  },
  {
   "cell_type": "code",
   "execution_count": 60,
   "metadata": {},
   "outputs": [],
   "source": [
    "#Export to csv\n",
    "df_stats2.to_csv('elevation_stats_subunits.csv')"
   ]
  },
  {
   "cell_type": "code",
   "execution_count": 61,
   "metadata": {},
   "outputs": [
    {
     "name": "stdout",
     "output_type": "stream",
     "text": [
      "Median: \n"
     ]
    },
    {
     "data": {
      "text/plain": [
       "Deep water         303.0\n",
       "Deep-to-shallow    299.0\n",
       "Shallow water      322.0\n",
       "Continuous         330.0\n",
       "Discontinuous      340.0\n",
       "dtype: float64"
      ]
     },
     "execution_count": 61,
     "metadata": {},
     "output_type": "execute_result"
    }
   ],
   "source": [
    "#More stats\n",
    "\n",
    "print(\"Median: \")\n",
    "df_allsubs[[\"Deep water\", \"Deep-to-shallow\", \"Shallow water\", \"Continuous\", \"Discontinuous\"]].median()"
   ]
  },
  {
   "cell_type": "code",
   "execution_count": 62,
   "metadata": {},
   "outputs": [
    {
     "name": "stdout",
     "output_type": "stream",
     "text": [
      "Mode: \n"
     ]
    },
    {
     "data": {
      "text/html": [
       "<div>\n",
       "<style scoped>\n",
       "    .dataframe tbody tr th:only-of-type {\n",
       "        vertical-align: middle;\n",
       "    }\n",
       "\n",
       "    .dataframe tbody tr th {\n",
       "        vertical-align: top;\n",
       "    }\n",
       "\n",
       "    .dataframe thead th {\n",
       "        text-align: right;\n",
       "    }\n",
       "</style>\n",
       "<table border=\"1\" class=\"dataframe\">\n",
       "  <thead>\n",
       "    <tr style=\"text-align: right;\">\n",
       "      <th></th>\n",
       "      <th>Deep water</th>\n",
       "      <th>Deep-to-shallow</th>\n",
       "      <th>Shallow water</th>\n",
       "      <th>Continuous</th>\n",
       "      <th>Discontinuous</th>\n",
       "    </tr>\n",
       "  </thead>\n",
       "  <tbody>\n",
       "    <tr>\n",
       "      <th>0</th>\n",
       "      <td>294</td>\n",
       "      <td>296.0</td>\n",
       "      <td>330.0</td>\n",
       "      <td>330.0</td>\n",
       "      <td>340.0</td>\n",
       "    </tr>\n",
       "  </tbody>\n",
       "</table>\n",
       "</div>"
      ],
      "text/plain": [
       "   Deep water  Deep-to-shallow  Shallow water  Continuous  Discontinuous\n",
       "0         294            296.0          330.0       330.0          340.0"
      ]
     },
     "execution_count": 62,
     "metadata": {},
     "output_type": "execute_result"
    }
   ],
   "source": [
    "#More stats\n",
    "\n",
    "print(\"Mode: \")\n",
    "df_allsubs[[\"Deep water\", \"Deep-to-shallow\", \"Shallow water\", \"Continuous\", \"Discontinuous\"]].mode()"
   ]
  },
  {
   "cell_type": "code",
   "execution_count": 63,
   "metadata": {},
   "outputs": [
    {
     "name": "stdout",
     "output_type": "stream",
     "text": [
      "Variance: \n"
     ]
    },
    {
     "data": {
      "text/plain": [
       "Deep water          91.517757\n",
       "Deep-to-shallow     31.337898\n",
       "Shallow water      203.252330\n",
       "Continuous         821.272091\n",
       "Discontinuous      350.838755\n",
       "dtype: float64"
      ]
     },
     "execution_count": 63,
     "metadata": {},
     "output_type": "execute_result"
    }
   ],
   "source": [
    "#More stats\n",
    "\n",
    "print(\"Variance: \")\n",
    "df_allsubs[[\"Deep water\", \"Deep-to-shallow\", \"Shallow water\", \"Continuous\", \"Discontinuous\"]].var()"
   ]
  },
  {
   "cell_type": "code",
   "execution_count": 64,
   "metadata": {},
   "outputs": [
    {
     "data": {
      "text/html": [
       "<div>\n",
       "<style scoped>\n",
       "    .dataframe tbody tr th:only-of-type {\n",
       "        vertical-align: middle;\n",
       "    }\n",
       "\n",
       "    .dataframe tbody tr th {\n",
       "        vertical-align: top;\n",
       "    }\n",
       "\n",
       "    .dataframe thead th {\n",
       "        text-align: right;\n",
       "    }\n",
       "</style>\n",
       "<table border=\"1\" class=\"dataframe\">\n",
       "  <thead>\n",
       "    <tr style=\"text-align: right;\">\n",
       "      <th></th>\n",
       "      <th>Till</th>\n",
       "      <th>Glaciolacustrine</th>\n",
       "      <th>Bedrock</th>\n",
       "      <th>Organic</th>\n",
       "      <th>Alluvial</th>\n",
       "      <th>Esker</th>\n",
       "      <th>Deep water</th>\n",
       "      <th>Deep-to-shallow</th>\n",
       "      <th>Shallow water</th>\n",
       "      <th>Continuous</th>\n",
       "      <th>Discontinuous</th>\n",
       "    </tr>\n",
       "  </thead>\n",
       "  <tbody>\n",
       "    <tr>\n",
       "      <th>0</th>\n",
       "      <td>309.0</td>\n",
       "      <td>312</td>\n",
       "      <td>323.0</td>\n",
       "      <td>309.0</td>\n",
       "      <td>317.0</td>\n",
       "      <td>310.0</td>\n",
       "      <td>310.0</td>\n",
       "      <td>298.0</td>\n",
       "      <td>312.0</td>\n",
       "      <td>309.0</td>\n",
       "      <td>313.0</td>\n",
       "    </tr>\n",
       "    <tr>\n",
       "      <th>1</th>\n",
       "      <td>310.0</td>\n",
       "      <td>311</td>\n",
       "      <td>324.0</td>\n",
       "      <td>310.0</td>\n",
       "      <td>317.0</td>\n",
       "      <td>310.0</td>\n",
       "      <td>310.0</td>\n",
       "      <td>298.0</td>\n",
       "      <td>311.0</td>\n",
       "      <td>310.0</td>\n",
       "      <td>313.0</td>\n",
       "    </tr>\n",
       "    <tr>\n",
       "      <th>2</th>\n",
       "      <td>310.0</td>\n",
       "      <td>310</td>\n",
       "      <td>324.0</td>\n",
       "      <td>310.0</td>\n",
       "      <td>317.0</td>\n",
       "      <td>310.0</td>\n",
       "      <td>310.0</td>\n",
       "      <td>298.0</td>\n",
       "      <td>310.0</td>\n",
       "      <td>310.0</td>\n",
       "      <td>314.0</td>\n",
       "    </tr>\n",
       "    <tr>\n",
       "      <th>3</th>\n",
       "      <td>310.0</td>\n",
       "      <td>310</td>\n",
       "      <td>324.0</td>\n",
       "      <td>310.0</td>\n",
       "      <td>310.0</td>\n",
       "      <td>310.0</td>\n",
       "      <td>310.0</td>\n",
       "      <td>297.0</td>\n",
       "      <td>310.0</td>\n",
       "      <td>310.0</td>\n",
       "      <td>314.0</td>\n",
       "    </tr>\n",
       "    <tr>\n",
       "      <th>4</th>\n",
       "      <td>310.0</td>\n",
       "      <td>310</td>\n",
       "      <td>324.0</td>\n",
       "      <td>310.0</td>\n",
       "      <td>310.0</td>\n",
       "      <td>310.0</td>\n",
       "      <td>310.0</td>\n",
       "      <td>297.0</td>\n",
       "      <td>310.0</td>\n",
       "      <td>310.0</td>\n",
       "      <td>320.0</td>\n",
       "    </tr>\n",
       "    <tr>\n",
       "      <th>...</th>\n",
       "      <td>...</td>\n",
       "      <td>...</td>\n",
       "      <td>...</td>\n",
       "      <td>...</td>\n",
       "      <td>...</td>\n",
       "      <td>...</td>\n",
       "      <td>...</td>\n",
       "      <td>...</td>\n",
       "      <td>...</td>\n",
       "      <td>...</td>\n",
       "      <td>...</td>\n",
       "    </tr>\n",
       "    <tr>\n",
       "      <th>2147206</th>\n",
       "      <td>NaN</td>\n",
       "      <td>296</td>\n",
       "      <td>NaN</td>\n",
       "      <td>NaN</td>\n",
       "      <td>NaN</td>\n",
       "      <td>NaN</td>\n",
       "      <td>NaN</td>\n",
       "      <td>NaN</td>\n",
       "      <td>NaN</td>\n",
       "      <td>NaN</td>\n",
       "      <td>NaN</td>\n",
       "    </tr>\n",
       "    <tr>\n",
       "      <th>2147207</th>\n",
       "      <td>NaN</td>\n",
       "      <td>296</td>\n",
       "      <td>NaN</td>\n",
       "      <td>NaN</td>\n",
       "      <td>NaN</td>\n",
       "      <td>NaN</td>\n",
       "      <td>NaN</td>\n",
       "      <td>NaN</td>\n",
       "      <td>NaN</td>\n",
       "      <td>NaN</td>\n",
       "      <td>NaN</td>\n",
       "    </tr>\n",
       "    <tr>\n",
       "      <th>2147208</th>\n",
       "      <td>NaN</td>\n",
       "      <td>296</td>\n",
       "      <td>NaN</td>\n",
       "      <td>NaN</td>\n",
       "      <td>NaN</td>\n",
       "      <td>NaN</td>\n",
       "      <td>NaN</td>\n",
       "      <td>NaN</td>\n",
       "      <td>NaN</td>\n",
       "      <td>NaN</td>\n",
       "      <td>NaN</td>\n",
       "    </tr>\n",
       "    <tr>\n",
       "      <th>2147209</th>\n",
       "      <td>NaN</td>\n",
       "      <td>296</td>\n",
       "      <td>NaN</td>\n",
       "      <td>NaN</td>\n",
       "      <td>NaN</td>\n",
       "      <td>NaN</td>\n",
       "      <td>NaN</td>\n",
       "      <td>NaN</td>\n",
       "      <td>NaN</td>\n",
       "      <td>NaN</td>\n",
       "      <td>NaN</td>\n",
       "    </tr>\n",
       "    <tr>\n",
       "      <th>2147210</th>\n",
       "      <td>NaN</td>\n",
       "      <td>303</td>\n",
       "      <td>NaN</td>\n",
       "      <td>NaN</td>\n",
       "      <td>NaN</td>\n",
       "      <td>NaN</td>\n",
       "      <td>NaN</td>\n",
       "      <td>NaN</td>\n",
       "      <td>NaN</td>\n",
       "      <td>NaN</td>\n",
       "      <td>NaN</td>\n",
       "    </tr>\n",
       "  </tbody>\n",
       "</table>\n",
       "<p>2147211 rows × 11 columns</p>\n",
       "</div>"
      ],
      "text/plain": [
       "          Till  Glaciolacustrine  Bedrock  Organic  Alluvial  Esker  \\\n",
       "0        309.0               312    323.0    309.0     317.0  310.0   \n",
       "1        310.0               311    324.0    310.0     317.0  310.0   \n",
       "2        310.0               310    324.0    310.0     317.0  310.0   \n",
       "3        310.0               310    324.0    310.0     310.0  310.0   \n",
       "4        310.0               310    324.0    310.0     310.0  310.0   \n",
       "...        ...               ...      ...      ...       ...    ...   \n",
       "2147206    NaN               296      NaN      NaN       NaN    NaN   \n",
       "2147207    NaN               296      NaN      NaN       NaN    NaN   \n",
       "2147208    NaN               296      NaN      NaN       NaN    NaN   \n",
       "2147209    NaN               296      NaN      NaN       NaN    NaN   \n",
       "2147210    NaN               303      NaN      NaN       NaN    NaN   \n",
       "\n",
       "         Deep water  Deep-to-shallow  Shallow water  Continuous  Discontinuous  \n",
       "0             310.0            298.0          312.0       309.0          313.0  \n",
       "1             310.0            298.0          311.0       310.0          313.0  \n",
       "2             310.0            298.0          310.0       310.0          314.0  \n",
       "3             310.0            297.0          310.0       310.0          314.0  \n",
       "4             310.0            297.0          310.0       310.0          320.0  \n",
       "...             ...              ...            ...         ...            ...  \n",
       "2147206         NaN              NaN            NaN         NaN            NaN  \n",
       "2147207         NaN              NaN            NaN         NaN            NaN  \n",
       "2147208         NaN              NaN            NaN         NaN            NaN  \n",
       "2147209         NaN              NaN            NaN         NaN            NaN  \n",
       "2147210         NaN              NaN            NaN         NaN            NaN  \n",
       "\n",
       "[2147211 rows x 11 columns]"
      ]
     },
     "execution_count": 64,
     "metadata": {},
     "output_type": "execute_result"
    }
   ],
   "source": [
    "#Make master df with all elevation pixels\n",
    "\n",
    "df_master = pd.concat([df_all, df_allsubs], axis=1)\n",
    "\n",
    "df_master"
   ]
  },
  {
   "cell_type": "code",
   "execution_count": 65,
   "metadata": {},
   "outputs": [],
   "source": [
    "#Export to csv\n",
    "\n",
    "df_master.to_csv('elevation_master.csv')"
   ]
  },
  {
   "cell_type": "code",
   "execution_count": null,
   "metadata": {},
   "outputs": [],
   "source": []
  }
 ],
 "metadata": {
  "kernelspec": {
   "display_name": "Python 3",
   "language": "python",
   "name": "python3"
  },
  "language_info": {
   "codemirror_mode": {
    "name": "ipython",
    "version": 3
   },
   "file_extension": ".py",
   "mimetype": "text/x-python",
   "name": "python",
   "nbconvert_exporter": "python",
   "pygments_lexer": "ipython3",
   "version": "3.7.6"
  }
 },
 "nbformat": 4,
 "nbformat_minor": 4
}
